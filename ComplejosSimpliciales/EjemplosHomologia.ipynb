{
 "cells": [
  {
   "cell_type": "markdown",
   "source": [
    "# Ejemplos Homologia\n"
   ],
   "metadata": {
    "collapsed": false
   }
  },
  {
   "cell_type": "code",
   "execution_count": null,
   "metadata": {
    "collapsed": true,
    "pycharm": {
     "is_executing": true
    }
   },
   "outputs": [],
   "source": [
    "import utils\n",
    "from SimplicialComplex import SimplicialComplex\n",
    "%load_ext autoreload\n",
    "%autoreload 2"
   ]
  },
  {
   "cell_type": "code",
   "execution_count": null,
   "outputs": [],
   "source": [
    "sc=SimplicialComplex([(0,1,2,3)])\n",
    "print(sc.betti_number(0), sc.betti_number(1), sc.betti_number(2), sc.betti_number(3))"
   ],
   "metadata": {
    "collapsed": false
   }
  },
  {
   "cell_type": "code",
   "execution_count": null,
   "outputs": [],
   "source": [
    "sc1=SimplicialComplex (list (sc.n_faces(2)))\n",
    "print (sc1.betti_number(0) ,sc1.betti_number(1) ,sc1.betti_number(2))"
   ],
   "metadata": {
    "collapsed": false
   }
  },
  {
   "cell_type": "code",
   "execution_count": null,
   "outputs": [],
   "source": [
    "sc = SimplicialComplex([(0, 1), (1, 2, 3, 4), (4, 5), (5, 6), (4, 6), (6, 7, 8), (8, 9)])\n",
    "print(sc.betti_number(0), sc.betti_number(1), sc.betti_number(2), sc.betti_number(3))"
   ],
   "metadata": {
    "collapsed": false
   }
  },
  {
   "cell_type": "code",
   "execution_count": null,
   "outputs": [],
   "source": [
    "sc = SimplicialComplex([(0, 1), (1, 2, 3, 4), (4, 5), (5, 6), (4, 6), (6, 7, 8), (8, 9)])\n",
    "sc = SimplicialComplex(list(sc.n_faces(1)))\n",
    "print(sc.betti_number(0), sc.betti_number(1))"
   ],
   "metadata": {
    "collapsed": false
   }
  },
  {
   "cell_type": "code",
   "execution_count": null,
   "outputs": [],
   "source": [
    "sc=SimplicialComplex([(0,1,2),(2,3),(3,4)])\n",
    "print (sc.betti_number(0) ,sc.betti_number(1),sc.betti_number(2))"
   ],
   "metadata": {
    "collapsed": false
   }
  },
  {
   "cell_type": "code",
   "execution_count": null,
   "outputs": [],
   "source": [
    "sc=SimplicialComplex([(1,2,4),(1,3,6), (1,4,6),(2,3,5),(2,4,5), (3,5,6)])\n",
    "print (sc.betti_number(0) ,sc.betti_number(1),sc.betti_number(2))"
   ],
   "metadata": {
    "collapsed": false
   }
  },
  {
   "cell_type": "code",
   "execution_count": null,
   "outputs": [],
   "source": [
    "sc=SimplicialComplex([(1,2,4),(1,3,6), (1,4,6),(2,3,5),(2,4,5), (3,5,6)])\n",
    "sc1=SimplicialComplex(list(sc.n_faces(1)))\n",
    "print (sc1.betti_number(0),sc1.betti_number(1))"
   ],
   "metadata": {
    "collapsed": false
   }
  },
  {
   "cell_type": "code",
   "execution_count": null,
   "outputs": [],
   "source": [
    "sc=SimplicialComplex([(1,2,4), (2,4,5), (2,3,5), (3,5,6), (1,3,6), (1,4,6),(4,5,7), (5,7,8),(5,6,8),(6,8,9), (4,6,9),(4,7,9), (1,7,8), (1,2,8), (2,8,9), (2,3,9) (3,7,9), (1,3,7)])\n",
    "print (sc.betti_number (0) ,sc.betti_number(1),sc.betti_number(2))"
   ],
   "metadata": {
    "collapsed": false
   }
  },
  {
   "cell_type": "code",
   "execution_count": null,
   "outputs": [],
   "source": [
    "sc=SimplicialComplex([(1,2,4), (2,4,5), (2,3,5), (3,5,6), (1,3,6), (1,4,6),(4,5,7), (5,7,8),(5,6,8),(6,8,9), (4,6,9),(4,7,9), (1,7,8), (1,2,8), (2,8,9), (2,3,9) (3,7,9), (1,3,7)])\n",
    "sc1 = SimplicialComplex(list(sc.n_faces(1)))\n",
    "print(sc1.betti_number(0), sc1.betti_number(1))"
   ],
   "metadata": {
    "collapsed": false
   }
  },
  {
   "cell_type": "code",
   "execution_count": null,
   "outputs": [],
   "source": [
    "sc=SimplicialComplex([(1,2,6), (2,3,4), (1,3,4), (1,2,5), (2,3,5), (1,3,6),(2,4,6), (1,4,5), (3,5,6), (4,5,6)])\n",
    "print (sc.betti_number (0) ,sc.betti_number(1),sc.betti_number(2))"
   ],
   "metadata": {
    "collapsed": false
   }
  },
  {
   "cell_type": "code",
   "execution_count": null,
   "outputs": [],
   "source": [
    "sc=SimplicialComplex([(0,), (1,), (2,3), (4,5), (5,6), (4,6), (6,7,8,9)])\n",
    "print (sc.betti_number (0) ,sc.betti_number(1),sc.betti_number (2) ,sc.betti_number(3))"
   ],
   "metadata": {
    "collapsed": false
   }
  }
 ],
 "metadata": {
  "kernelspec": {
   "display_name": "Python 3",
   "language": "python",
   "name": "python3"
  },
  "language_info": {
   "codemirror_mode": {
    "name": "ipython",
    "version": 2
   },
   "file_extension": ".py",
   "mimetype": "text/x-python",
   "name": "python",
   "nbconvert_exporter": "python",
   "pygments_lexer": "ipython2",
   "version": "2.7.6"
  }
 },
 "nbformat": 4,
 "nbformat_minor": 0
}
