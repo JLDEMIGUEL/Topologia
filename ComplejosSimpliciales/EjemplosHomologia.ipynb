{
 "cells": [
  {
   "cell_type": "markdown",
   "metadata": {},
   "source": [
    "# Ejemplos Homologia\n"
   ]
  },
  {
   "cell_type": "code",
   "execution_count": 132,
   "metadata": {
    "collapsed": true
   },
   "outputs": [
    {
     "name": "stdout",
     "output_type": "stream",
     "text": [
      "The autoreload extension is already loaded. To reload it, use:\n",
      "  %reload_ext autoreload\n"
     ]
    }
   ],
   "source": [
    "%load_ext autoreload\n",
    "%autoreload 2\n",
    "\n",
    "import numpy as np\n",
    "\n",
    "from AlphaComplex import AlphaComplex\n",
    "from SimplicialComplex import SimplicialComplex\n"
   ]
  },
  {
   "cell_type": "code",
   "execution_count": 133,
   "outputs": [
    {
     "name": "stdout",
     "output_type": "stream",
     "text": [
      "[1, 0]\n",
      "[1, 1]\n",
      "[1, 2]\n"
     ]
    }
   ],
   "source": [
    "sc=SimplicialComplex([(0,1,2),(2,3),(3,4)])\n",
    "print(sc.algoritmo_incremental())\n",
    "sc=SimplicialComplex([(0,1),(1,2),(0,2),(2,3),(3,4)])\n",
    "print(sc.algoritmo_incremental())\n",
    "sc=SimplicialComplex([(0,1),(1,2),(0,2),(2,3),(3,4),(2,4)])\n",
    "print(sc.algoritmo_incremental())"
   ],
   "metadata": {
    "collapsed": false
   }
  },
  {
   "cell_type": "markdown",
   "metadata": {},
   "source": [
    "### Ejemplo 1\n",
    "Tetraedro"
   ]
  },
  {
   "cell_type": "code",
   "execution_count": 134,
   "metadata": {},
   "outputs": [
    {
     "name": "stdout",
     "output_type": "stream",
     "text": [
      "dimzp 4 dimbp 3 bp 1\n",
      "dimzp 3 dimbp 3 bp 0\n",
      "dimzp 1 dimbp 1 bp 0\n",
      "dimzp 0 dimbp 0 bp 0\n",
      "1 0 0 0\n"
     ]
    }
   ],
   "source": [
    "sc=SimplicialComplex([(0,1,2,3)])\n",
    "print(sc.betti_number(0), sc.betti_number(1), sc.betti_number(2), sc.betti_number(3))"
   ]
  },
  {
   "cell_type": "markdown",
   "metadata": {},
   "source": [
    "### Ejemplo 2\n",
    "Borde del Tetraedro"
   ]
  },
  {
   "cell_type": "code",
   "execution_count": 135,
   "metadata": {},
   "outputs": [
    {
     "name": "stdout",
     "output_type": "stream",
     "text": [
      "dimzp 4 dimbp 3 bp 1\n",
      "dimzp 3 dimbp 3 bp 0\n",
      "dimzp 1 dimbp 0 bp 1\n",
      "1 0 1\n"
     ]
    }
   ],
   "source": [
    "sc1=SimplicialComplex (list (sc.n_faces(2)))\n",
    "print (sc1.betti_number(0) ,sc1.betti_number(1) ,sc1.betti_number(2))"
   ]
  },
  {
   "cell_type": "markdown",
   "metadata": {},
   "source": [
    "### Ejemplo 3"
   ]
  },
  {
   "cell_type": "code",
   "execution_count": 136,
   "metadata": {},
   "outputs": [
    {
     "name": "stdout",
     "output_type": "stream",
     "text": [
      "dimzp 10 dimbp 9 bp 1\n",
      "dimzp 5 dimbp 4 bp 1\n",
      "dimzp 1 dimbp 1 bp 0\n",
      "dimzp 0 dimbp 0 bp 0\n",
      "1 1 0 0\n"
     ]
    }
   ],
   "source": [
    "sc = SimplicialComplex([(0, 1), (1, 2, 3, 4), (4, 5), (5, 6), (4, 6), (6, 7, 8), (8, 9)])\n",
    "print(sc.betti_number(0), sc.betti_number(1), sc.betti_number(2), sc.betti_number(3))"
   ]
  },
  {
   "cell_type": "markdown",
   "metadata": {},
   "source": [
    "### Ejemplo 4\n",
    "1-esqueleto anterior"
   ]
  },
  {
   "cell_type": "code",
   "execution_count": 137,
   "metadata": {},
   "outputs": [
    {
     "name": "stdout",
     "output_type": "stream",
     "text": [
      "dimzp 10 dimbp 9 bp 1\n",
      "dimzp 5 dimbp 0 bp 5\n",
      "1 5\n"
     ]
    }
   ],
   "source": [
    "sc = SimplicialComplex([(0, 1), (1, 2, 3, 4), (4, 5), (5, 6), (4, 6), (6, 7, 8), (8, 9)])\n",
    "sc = SimplicialComplex(list(sc.n_faces(1)))\n",
    "print(sc.betti_number(0), sc.betti_number(1))"
   ]
  },
  {
   "cell_type": "markdown",
   "metadata": {},
   "source": [
    "### Ejemplo 5"
   ]
  },
  {
   "cell_type": "code",
   "execution_count": 138,
   "metadata": {},
   "outputs": [
    {
     "name": "stdout",
     "output_type": "stream",
     "text": [
      "dimzp 5 dimbp 4 bp 1\n",
      "dimzp 1 dimbp 1 bp 0\n",
      "dimzp 0 dimbp 0 bp 0\n",
      "1 0 0\n"
     ]
    }
   ],
   "source": [
    "sc=SimplicialComplex([(0,1,2),(2,3),(3,4)])\n",
    "print (sc.betti_number(0) ,sc.betti_number(1),sc.betti_number(2))"
   ]
  },
  {
   "cell_type": "markdown",
   "metadata": {},
   "source": [
    "### Ejemplo 6\n",
    "Anillo cerrado"
   ]
  },
  {
   "cell_type": "code",
   "execution_count": 139,
   "metadata": {},
   "outputs": [
    {
     "name": "stdout",
     "output_type": "stream",
     "text": [
      "dimzp 6 dimbp 5 bp 1\n",
      "dimzp 7 dimbp 6 bp 1\n",
      "dimzp 0 dimbp 0 bp 0\n",
      "1 1 0\n"
     ]
    }
   ],
   "source": [
    "sc=SimplicialComplex([(1,2,4),(1,3,6), (1,4,6),(2,3,5),(2,4,5), (3,5,6)])\n",
    "print (sc.betti_number(0) ,sc.betti_number(1),sc.betti_number(2))"
   ]
  },
  {
   "cell_type": "markdown",
   "metadata": {},
   "source": [
    "### Ejemplo 7\n",
    "1-esqueleto anillo cerrado"
   ]
  },
  {
   "cell_type": "code",
   "execution_count": 140,
   "metadata": {},
   "outputs": [
    {
     "name": "stdout",
     "output_type": "stream",
     "text": [
      "dimzp 6 dimbp 5 bp 1\n",
      "dimzp 7 dimbp 0 bp 7\n",
      "1 7\n"
     ]
    }
   ],
   "source": [
    "sc=SimplicialComplex([(1,2,4),(1,3,6), (1,4,6),(2,3,5),(2,4,5), (3,5,6)])\n",
    "sc1=SimplicialComplex(list(sc.n_faces(1)))\n",
    "print (sc1.betti_number(0),sc1.betti_number(1))"
   ]
  },
  {
   "cell_type": "markdown",
   "metadata": {},
   "source": [
    "### Ejemplo 8\n",
    "Toro"
   ]
  },
  {
   "cell_type": "code",
   "execution_count": 141,
   "metadata": {},
   "outputs": [
    {
     "name": "stdout",
     "output_type": "stream",
     "text": [
      "dimzp 9 dimbp 8 bp 1\n",
      "dimzp 19 dimbp 17 bp 2\n",
      "dimzp 1 dimbp 0 bp 1\n",
      "1 2 1\n"
     ]
    }
   ],
   "source": [
    "sc=SimplicialComplex([(1,2,4), (2,4,5), (2,3,5), (3,5,6), (1,3,6), (1,4,6),(4,5,7), (5,7,8),(5,6,8),(6,8,9), (4,6,9),(4,7,9), (1,7,8), (1,2,8), (2,8,9), (2,3,9), (3,7,9), (1,3,7)])\n",
    "print (sc.betti_number (0) ,sc.betti_number(1),sc.betti_number(2))"
   ]
  },
  {
   "cell_type": "markdown",
   "metadata": {},
   "source": [
    "### Ejemplo 8\n",
    "1-esqueleto del toro"
   ]
  },
  {
   "cell_type": "code",
   "execution_count": 142,
   "metadata": {},
   "outputs": [
    {
     "name": "stdout",
     "output_type": "stream",
     "text": [
      "dimzp 9 dimbp 8 bp 1\n",
      "dimzp 19 dimbp 0 bp 19\n",
      "1 19\n"
     ]
    }
   ],
   "source": [
    "sc=SimplicialComplex([(1,2,4), (2,4,5), (2,3,5), (3,5,6), (1,3,6), (1,4,6),(4,5,7), (5,7,8),(5,6,8),(6,8,9), (4,6,9),(4,7,9), (1,7,8), (1,2,8), (2,8,9), (2,3,9), (3,7,9), (1,3,7)])\n",
    "sc1 = SimplicialComplex(list(sc.n_faces(1)))\n",
    "print(sc1.betti_number(0), sc1.betti_number(1))"
   ]
  },
  {
   "cell_type": "markdown",
   "metadata": {},
   "source": [
    "### Ejemplo 9\n",
    "Plano proyectivo"
   ]
  },
  {
   "cell_type": "code",
   "execution_count": 143,
   "metadata": {},
   "outputs": [
    {
     "name": "stdout",
     "output_type": "stream",
     "text": [
      "dimzp 6 dimbp 5 bp 1\n",
      "dimzp 10 dimbp 9 bp 1\n",
      "dimzp 1 dimbp 0 bp 1\n",
      "1 1 1\n"
     ]
    }
   ],
   "source": [
    "sc=SimplicialComplex([(1,2,6), (2,3,4), (1,3,4), (1,2,5), (2,3,5), (1,3,6),(2,4,6), (1,4,5), (3,5,6), (4,5,6)])\n",
    "print (sc.betti_number (0) ,sc.betti_number(1),sc.betti_number(2))"
   ]
  },
  {
   "cell_type": "markdown",
   "metadata": {},
   "source": [
    "### Ejemplo 10"
   ]
  },
  {
   "cell_type": "code",
   "execution_count": 144,
   "metadata": {},
   "outputs": [
    {
     "name": "stdout",
     "output_type": "stream",
     "text": [
      "dimzp 10 dimbp 6 bp 4\n",
      "dimzp 4 dimbp 3 bp 1\n",
      "dimzp 1 dimbp 1 bp 0\n",
      "dimzp 0 dimbp 0 bp 0\n",
      "4 1 0 0\n"
     ]
    }
   ],
   "source": [
    "sc=SimplicialComplex([(0,), (1,), (2,3), (4,5), (5,6), (4,6), (6,7,8,9)])\n",
    "print (sc.betti_number (0) ,sc.betti_number(1),sc.betti_number (2) ,sc.betti_number(3))"
   ]
  },
  {
   "cell_type": "markdown",
   "metadata": {},
   "source": [
    "### Ejemplo 11\n",
    "AlphaComplejo 1"
   ]
  },
  {
   "cell_type": "code",
   "execution_count": 145,
   "metadata": {},
   "outputs": [
    {
     "name": "stdout",
     "output_type": "stream",
     "text": [
      "dimzp 10 dimbp 9 bp 1\n",
      "dimzp 12 dimbp 12 bp 0\n",
      "dimzp 0 dimbp 0 bp 0\n",
      "1 0 0\n",
      "[1, 0]\n"
     ]
    }
   ],
   "source": [
    "points = np.array([(0.38021546727456423, 0.46419202339598786), (0.7951628297672293, 0.49263630135869474),\n",
    "                   (0.566623772375203, 0.038325621649018426), (0.3369306814864865, 0.7103735061134965),\n",
    "                   (0.08272837815822842, 0.2263273314352896), (0.5180166301873989, 0.6271769943824689),\n",
    "                   (0.33691411899985035, 0.8402045183219995), (0.33244488399729255, 0.4524636520475205),\n",
    "                   (0.11778991601260325, 0.6657734204021165), (0.9384303415747769, 0.2313873874340855)])\n",
    "sc = AlphaComplex(points)\n",
    "print (sc.betti_number (0) ,sc.betti_number(1),sc.betti_number (2))\n",
    "print(sc.algoritmo_incremental())"
   ]
  },
  {
   "cell_type": "markdown",
   "metadata": {},
   "source": [
    "### Ejemplo 12\n",
    "AlphaComplejo 2"
   ]
  },
  {
   "cell_type": "code",
   "execution_count": 146,
   "metadata": {},
   "outputs": [
    {
     "name": "stdout",
     "output_type": "stream",
     "text": [
      "dimzp 10 dimbp 9 bp 1\n",
      "dimzp 11 dimbp 11 bp 0\n",
      "dimzp 0 dimbp 0 bp 0\n",
      "1 0 0\n",
      "[1, 0]\n"
     ]
    }
   ],
   "source": [
    "points=np.array([[0.8957641450573793, 0.2950833519989374], [0.028621391963087994, 0.9440875759025237],\n",
    "                 [0.517621505875702, 0.1236620161847416], [0.7871047164191424, 0.7777474116014623],\n",
    "                 [0.21869796914805273, 0.7233589914276723], [0.9891035292480995, 0.6032186214942837],\n",
    "                 [0.30113764052453484, 0.613321425324272], [0.18407448222466916, 0.7868606964403773],\n",
    "                 [0.4496777667376678, 0.874366215574117], [0.08225571534539433, 0.616710205071694]])\n",
    "sc = AlphaComplex(points)\n",
    "print (sc.betti_number (0) ,sc.betti_number(1),sc.betti_number (2))\n",
    "print(sc.algoritmo_incremental())"
   ]
  },
  {
   "cell_type": "markdown",
   "metadata": {},
   "source": [
    "### Ejemplo 13\n",
    "AlphaComplejo 3"
   ]
  },
  {
   "cell_type": "code",
   "execution_count": 147,
   "metadata": {},
   "outputs": [
    {
     "name": "stdout",
     "output_type": "stream",
     "text": [
      "dimzp 20 dimbp 19 bp 1\n",
      "dimzp 29 dimbp 29 bp 0\n",
      "dimzp 0 dimbp 0 bp 0\n",
      "1 0 0\n",
      "[1, 0]\n"
     ]
    }
   ],
   "source": [
    "points = np.array([(0.8753299639906736, 0.5452963206013219),(0.915335120559448, 0.8622822047328554),\n",
    "                   (0.9411759819184322, 0.2748278885761678),(0.7052034033196758, 0.8122389578499669),\n",
    "                   (0.9734431558329487, 0.5500672178217452),(0.101349658961157, 0.6072126518098413),\n",
    "                   (0.6099428935549683, 0.5095146187792166),(0.6810379648990679, 0.6343196355745316),\n",
    "                   (0.763747595111296, 0.6389758508715849),(0.6521290891236327, 0.28340359060768416),\n",
    "                   (0.4569706839687516, 0.5970966728571825),(0.3339042514617916, 0.7888181435443109),\n",
    "                   (0.24447615661103717, 0.18247811626397858),(0.6961254832425103, 0.9974914431850389),\n",
    "                   (0.2452860638322797, 0.2974794924024807),(0.09631846692736679, 0.2887656085651358),\n",
    "                   (0.638575556222527, 0.26034722595932536),(0.803241921795395, 0.24803894619975986),\n",
    "                   (0.8809182300057703, 0.3389661339754195),(0.3565859265456749, 0.25327819736066515)])\n",
    "\n",
    "sc = AlphaComplex(points)\n",
    "print (sc.betti_number (0) ,sc.betti_number(1),sc.betti_number (2))\n",
    "print(sc.algoritmo_incremental())"
   ]
  },
  {
   "cell_type": "markdown",
   "metadata": {},
   "source": [
    "### Ejemplo 14\n",
    "AlphaComplejo 4"
   ]
  },
  {
   "cell_type": "code",
   "execution_count": 148,
   "metadata": {},
   "outputs": [
    {
     "name": "stdout",
     "output_type": "stream",
     "text": [
      "dimzp 20 dimbp 19 bp 1\n",
      "dimzp 28 dimbp 28 bp 0\n",
      "dimzp 0 dimbp 0 bp 0\n",
      "1 0 0\n"
     ]
    }
   ],
   "source": [
    "points = np.array([[ 0.7649936 , -6.49105706],[-0.26047978, 3.17414802],\n",
    "                   [ 5.16486466, -2.77709227],[ 6.3630621 , 2.08442442],\n",
    "                   [ 1.63681198, 4.95671697],[-4.47103343, -0.4944843 ],\n",
    "                   [-2.12035066, 4.80887876],[-3.44986384, -3.25828704],\n",
    "                   [-3.55428879, 3.18415674],[-0.27202076, 3.89295058],\n",
    "                   [-2.9512385 , 5.76602403],[ 6.36747098, -1.44195299],\n",
    "                   [ 3.36400365, 4.33230353],[ 3.23972602, -3.44494391],\n",
    "                   [-3.29551494, 0.50827386],[-1.55188576, 3.42645393],\n",
    "                   [-3.62672644, -3.14264111],[ 3.54177077, -4.42486894],\n",
    "                   [-6.39734363, 1.37489294],[ 4.46578318, -0.76225718]])\n",
    "\n",
    "sc = AlphaComplex(points)\n",
    "print (sc.betti_number (0) ,sc.betti_number(1),sc.betti_number (2))"
   ]
  }
 ],
 "metadata": {
  "kernelspec": {
   "display_name": "Python 3 (ipykernel)",
   "language": "python",
   "name": "python3"
  },
  "language_info": {
   "codemirror_mode": {
    "name": "ipython",
    "version": 3
   },
   "file_extension": ".py",
   "mimetype": "text/x-python",
   "name": "python",
   "nbconvert_exporter": "python",
   "pygments_lexer": "ipython3",
   "version": "3.10.7"
  }
 },
 "nbformat": 4,
 "nbformat_minor": 1
}
