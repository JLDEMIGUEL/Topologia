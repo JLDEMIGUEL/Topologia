{
 "cells": [
  {
   "cell_type": "markdown",
   "source": [
    "# Ejemplos Simplicial Complex"
   ],
   "metadata": {
    "collapsed": false
   }
  },
  {
   "cell_type": "code",
   "execution_count": 2,
   "metadata": {
    "collapsed": true
   },
   "outputs": [],
   "source": [
    "from pathlib import Path\n",
    "import os\n",
    "import sys\n",
    "sys.path.append(os.path.dirname(Path(os.getcwd()).parent.parent))\n",
    "from ComplejosSimpliciales.src.utils.constants import botella_klein, plano_proyectivo, toro, anillo, tetraedro, tetraedro_borde\n",
    "%load_ext autoreload\n",
    "%autoreload 2\n",
    "\n",
    "from ComplejosSimpliciales.src.SimplicialComplex import SimplicialComplex"
   ]
  },
  {
   "cell_type": "markdown",
   "source": [
    "### Ejemplo 1 - Tetraedro"
   ],
   "metadata": {
    "collapsed": false
   }
  },
  {
   "cell_type": "code",
   "execution_count": 3,
   "outputs": [
    {
     "name": "stdout",
     "output_type": "stream",
     "text": [
      "Representacion del complejo simplicial: \n",
      "[(), (0,), (0, 1), (0, 1, 2), (0, 1, 2, 3), (0, 1, 3), (0, 2), (0, 2, 3), (0, 3), (1,), (1, 2), (1, 2, 3), (1, 3), (2,), (2, 3), (3,)]\n",
      "Dimension\n",
      "3\n",
      "N_faces(0)\n",
      "[(0,), (1,), (2,), (3,)]\n",
      "N_faces(1)\n",
      "[(0, 1), (0, 2), (0, 3), (1, 2), (1, 3), (2, 3)]\n",
      "N_faces(2)\n",
      "[(0, 1, 2), (0, 1, 3), (0, 2, 3), (1, 2, 3)]\n",
      "N_faces(3)\n",
      "[(0, 1, 2, 3)]\n",
      "Star(0,1)\n",
      "[(0, 1), (0, 1, 2), (0, 1, 2, 3), (0, 1, 3)]\n",
      "ClosedStar(0,1)\n",
      "[(), (0,), (0, 1), (0, 1, 2), (0, 1, 2, 3), (0, 1, 3), (0, 2), (0, 2, 3), (0, 3), (1,), (1, 2), (1, 2, 3), (1, 3), (2,), (2, 3), (3,)]\n",
      "Link(0,1)\n",
      "[(), (2,), (2, 3), (3,)]\n",
      "Skeleton(2)\n",
      "[(), (0,), (0, 1), (0, 1, 2), (0, 1, 3), (0, 2), (0, 2, 3), (0, 3), (1,), (1, 2), (1, 2, 3), (1, 3), (2,), (2, 3), (3,)]\n",
      "Euler Characteristic sc\n",
      "1\n"
     ]
    }
   ],
   "source": [
    "complejo = tetraedro\n",
    "\n",
    "print(\"Representacion del complejo simplicial: \")\n",
    "print(complejo.face_set())\n",
    "print(\"Dimension\")\n",
    "print(complejo.dimension())\n",
    "print(\"N_faces(0)\")\n",
    "print(complejo.n_faces(0))\n",
    "print(\"N_faces(1)\")\n",
    "print(complejo.n_faces(1))\n",
    "print(\"N_faces(2)\")\n",
    "print(complejo.n_faces(2))\n",
    "print(\"N_faces(3)\")\n",
    "print(complejo.n_faces(3))\n",
    "print(\"Star(0,1)\")\n",
    "print(complejo.star((0, 1)))\n",
    "print(\"ClosedStar(0,1)\")\n",
    "print(complejo.closedStar((0, 1)))\n",
    "print(\"Link(0,1)\")\n",
    "print(complejo.link((0, 1)))\n",
    "print(\"Skeleton(2)\")\n",
    "print(complejo.skeleton(2))\n",
    "print(\"Euler Characteristic sc\")\n",
    "print(complejo.euler_characteristic())"
   ],
   "metadata": {
    "collapsed": false
   }
  },
  {
   "cell_type": "markdown",
   "source": [
    "### Ejemplo2 - Borde tetraedro"
   ],
   "metadata": {
    "collapsed": false
   }
  },
  {
   "cell_type": "code",
   "execution_count": 4,
   "outputs": [
    {
     "name": "stdout",
     "output_type": "stream",
     "text": [
      "FaceSet sc1\n",
      "[(), (0,), (0, 1), (0, 1, 2), (0, 1, 3), (0, 2), (0, 2, 3), (0, 3), (1,), (1, 2), (1, 2, 3), (1, 3), (2,), (2, 3), (3,)]\n",
      "Dimension sc1\n",
      "2\n",
      "Star sc1 (0,)\n",
      "[(0,), (0, 1), (0, 1, 2), (0, 1, 3), (0, 2), (0, 2, 3), (0, 3)]\n",
      "Link sc1 (0,)\n",
      "[(), (1,), (1, 2), (1, 3), (2,), (2, 3), (3,)]\n",
      "Euler Characteristic sc\n",
      "2\n"
     ]
    }
   ],
   "source": [
    "sc1 = tetraedro_borde\n",
    "\n",
    "print(\"FaceSet sc1\")\n",
    "print(sc1.face_set())\n",
    "print(\"Dimension sc1\")\n",
    "print(sc1.dimension())\n",
    "print(\"Star sc1 (0,)\")\n",
    "print(sc1.star((0,)))\n",
    "print(\"Link sc1 (0,)\")\n",
    "print(sc1.link((0,)))\n",
    "print(\"Euler Characteristic sc\")\n",
    "print(sc1.euler_characteristic())"
   ],
   "metadata": {
    "collapsed": false
   }
  },
  {
   "cell_type": "markdown",
   "source": [
    "### Ejemplo 3"
   ],
   "metadata": {
    "collapsed": false
   }
  },
  {
   "cell_type": "code",
   "execution_count": 5,
   "outputs": [
    {
     "name": "stdout",
     "output_type": "stream",
     "text": [
      "FaceSet sc\n",
      "[(), (0,), (0, 1), (1,), (1, 2), (1, 2, 3), (1, 2, 3, 4), (1, 2, 4), (1, 3), (1, 3, 4), (1, 4), (2,), (2, 3), (2, 3, 4), (2, 4), (3,), (3, 4), (4,), (4, 5), (4, 6), (5,), (5, 6), (6,), (6, 7), (6, 7, 8), (6, 8), (7,), (7, 8), (8,), (8, 9), (9,)]\n",
      "Dimension sc\n",
      "3\n",
      "Skeleton(1) sc\n",
      "[(), (0,), (0, 1), (1,), (1, 2), (1, 3), (1, 4), (2,), (2, 3), (2, 4), (3,), (3, 4), (4,), (4, 5), (4, 6), (5,), (5, 6), (6,), (6, 7), (6, 8), (7,), (7, 8), (8,), (8, 9), (9,)]\n",
      "Star sc (4,)\n",
      "[(1, 2, 3, 4), (1, 2, 4), (1, 3, 4), (1, 4), (2, 3, 4), (2, 4), (3, 4), (4,), (4, 5), (4, 6)]\n",
      "Link sc (4,)\n",
      "[(), (1,), (1, 2), (1, 2, 3), (1, 3), (2,), (2, 3), (3,), (5,), (6,)]\n",
      "Euler Characteristic sc\n",
      "0\n"
     ]
    }
   ],
   "source": [
    "\n",
    "sc = SimplicialComplex({(0, 1), (1, 2, 3, 4), (4, 5), (5, 6), (4, 6), (6, 7, 8), (8, 9)})\n",
    "\n",
    "print(\"FaceSet sc\")\n",
    "print(sc.face_set())\n",
    "print(\"Dimension sc\")\n",
    "print(sc.dimension())\n",
    "print(\"Skeleton(1) sc\")\n",
    "print(sc.skeleton(1))\n",
    "print(\"Star sc (4,)\")\n",
    "print(sc.star((4,)))\n",
    "print(\"Link sc (4,)\")\n",
    "print(sc.link((4,)))\n",
    "print(\"Euler Characteristic sc\")\n",
    "print(sc.euler_characteristic())\n"
   ],
   "metadata": {
    "collapsed": false
   }
  },
  {
   "cell_type": "markdown",
   "source": [
    "### Ejemplo 4"
   ],
   "metadata": {
    "collapsed": false
   }
  },
  {
   "cell_type": "code",
   "execution_count": 6,
   "outputs": [
    {
     "name": "stdout",
     "output_type": "stream",
     "text": [
      "FaceSet sc\n",
      "[(), (0,), (0, 1), (1,), (1, 2), (1, 3), (1, 4), (2,), (2, 3), (2, 4), (3,), (3, 4), (4,), (4, 5), (4, 6), (5,), (5, 6), (6,), (6, 7), (6, 8), (7,), (7, 8), (8,), (8, 9), (9,)]\n",
      "Euler Characteristic sc\n",
      "-4\n"
     ]
    }
   ],
   "source": [
    "sc = SimplicialComplex(sc.skeleton(1))\n",
    "\n",
    "print(\"FaceSet sc\")\n",
    "print(sc.face_set())\n",
    "print(\"Euler Characteristic sc\")\n",
    "print(sc.euler_characteristic())"
   ],
   "metadata": {
    "collapsed": false
   }
  },
  {
   "cell_type": "markdown",
   "source": [
    "### Ejemplo 5"
   ],
   "metadata": {
    "collapsed": false
   }
  },
  {
   "cell_type": "code",
   "execution_count": 7,
   "outputs": [
    {
     "name": "stdout",
     "output_type": "stream",
     "text": [
      "FaceSet sc\n",
      "[(), (0,), (0, 1), (0, 1, 2), (0, 2), (1,), (1, 2), (2,), (2, 3), (3,), (3, 4), (4,)]\n",
      "Dimension sc\n",
      "2\n",
      "Skeleton(1) sc\n",
      "[(), (0,), (0, 1), (0, 2), (1,), (1, 2), (2,), (2, 3), (3,), (3, 4), (4,)]\n",
      "Star((2,)) sc\n",
      "[(0, 1, 2), (0, 2), (1, 2), (2,), (2, 3)]\n",
      "Link((2,)) sc\n",
      "[(), (0,), (0, 1), (1,), (3,)]\n"
     ]
    }
   ],
   "source": [
    "sc = SimplicialComplex({(0, 1, 2), (2, 3), (3, 4)})\n",
    "\n",
    "print(\"FaceSet sc\")\n",
    "print(sc.face_set())\n",
    "print(\"Dimension sc\")\n",
    "print(sc.dimension())\n",
    "print(\"Skeleton(1) sc\")\n",
    "print(sc.skeleton(1))\n",
    "print(\"Star((2,)) sc\")\n",
    "print(sc.star((2,)))\n",
    "print(\"Link((2,)) sc\")\n",
    "print(sc.link((2,)))"
   ],
   "metadata": {
    "collapsed": false
   }
  },
  {
   "cell_type": "markdown",
   "source": [
    "### Ejemplo 6 - Anillo"
   ],
   "metadata": {
    "collapsed": false
   }
  },
  {
   "cell_type": "code",
   "execution_count": 8,
   "outputs": [
    {
     "name": "stdout",
     "output_type": "stream",
     "text": [
      "FaceSet sc\n",
      "[(), (1,), (1, 2), (1, 2, 4), (1, 3), (1, 3, 6), (1, 4), (1, 4, 6), (1, 6), (2,), (2, 3), (2, 3, 5), (2, 4), (2, 4, 5), (2, 5), (3,), (3, 5), (3, 5, 6), (3, 6), (4,), (4, 5), (4, 6), (5,), (5, 6), (6,)]\n",
      "Dimension sc\n",
      "2\n",
      "Skeleton(1) sc\n",
      "[(), (1,), (1, 2), (1, 3), (1, 4), (1, 6), (2,), (2, 3), (2, 4), (2, 5), (3,), (3, 5), (3, 6), (4,), (4, 5), (4, 6), (5,), (5, 6), (6,)]\n",
      "Star((1,4)) sc\n",
      "[(1, 2, 4), (1, 4), (1, 4, 6)]\n",
      "Link((1,4)) sc\n",
      "[(), (2,), (6,)]\n",
      "Euler Characteristic sc\n",
      "0\n",
      "Connected components sc\n",
      "1\n"
     ]
    }
   ],
   "source": [
    "sc = anillo\n",
    "\n",
    "print(\"FaceSet sc\")\n",
    "print(sc.face_set())\n",
    "print(\"Dimension sc\")\n",
    "print(sc.dimension())\n",
    "print(\"Skeleton(1) sc\")\n",
    "print(sc.skeleton(1))\n",
    "print(\"Star((1,4)) sc\")\n",
    "print(sc.star((1, 4)))\n",
    "print(\"Link((1,4)) sc\")\n",
    "print(sc.link((1, 4)))\n",
    "print(\"Euler Characteristic sc\")\n",
    "print(sc.euler_characteristic())\n",
    "print(\"Connected components sc\")\n",
    "print(sc.connected_components())"
   ],
   "metadata": {
    "collapsed": false
   }
  },
  {
   "cell_type": "markdown",
   "source": [
    "### Ejemplo 7 - 1-Esqueleto Anillo"
   ],
   "metadata": {
    "collapsed": false
   }
  },
  {
   "cell_type": "code",
   "execution_count": 9,
   "outputs": [
    {
     "name": "stdout",
     "output_type": "stream",
     "text": [
      "Euler Characteristic sc\n",
      "-6\n"
     ]
    }
   ],
   "source": [
    "sc = SimplicialComplex(sc.skeleton(1))\n",
    "\n",
    "print(\"Euler Characteristic sc\")\n",
    "print(sc.euler_characteristic())"
   ],
   "metadata": {
    "collapsed": false
   }
  },
  {
   "cell_type": "markdown",
   "source": [
    "### Ejemplo 8 - Toro\n"
   ],
   "metadata": {
    "collapsed": false
   }
  },
  {
   "cell_type": "code",
   "execution_count": 10,
   "outputs": [
    {
     "name": "stdout",
     "output_type": "stream",
     "text": [
      "Dimension sc\n",
      "2\n",
      "N_faces(1)\n",
      "[(1, 2), (1, 3), (1, 4), (1, 6), (1, 7), (1, 8), (2, 3), (2, 4), (2, 5), (2, 8), (2, 9), (3, 5), (3, 6), (3, 7), (3, 9), (4, 5), (4, 6), (4, 7), (4, 9), (5, 6), (5, 7), (5, 8), (6, 8), (6, 9), (7, 8), (7, 9), (8, 9)]\n",
      "Star((1,)) sc\n",
      "[(1,), (1, 2), (1, 2, 4), (1, 2, 8), (1, 3), (1, 3, 6), (1, 3, 7), (1, 4), (1, 4, 6), (1, 6), (1, 7), (1, 7, 8), (1, 8)]\n",
      "Link((1,)) sc\n",
      "[(), (2,), (2, 4), (2, 8), (3,), (3, 6), (3, 7), (4,), (4, 6), (6,), (7,), (7, 8), (8,)]\n",
      "Euler Characteristic sc\n",
      "0\n",
      "Connected components\n",
      "1\n"
     ]
    }
   ],
   "source": [
    "sc = toro\n",
    "\n",
    "print(\"Dimension sc\")\n",
    "print(sc.dimension())\n",
    "print(\"N_faces(1)\")\n",
    "print(sc.n_faces(1))\n",
    "print(\"Star((1,)) sc\")\n",
    "print(sc.star((1,)))\n",
    "print(\"Link((1,)) sc\")\n",
    "print(sc.link((1,)))\n",
    "print(\"Euler Characteristic sc\")\n",
    "print(sc.euler_characteristic())\n",
    "print(\"Connected components\")\n",
    "print(sc.connected_components())"
   ],
   "metadata": {
    "collapsed": false
   }
  },
  {
   "cell_type": "markdown",
   "source": [
    "### Ejemplo 8.1 - 1-Esqueleto Toro"
   ],
   "metadata": {
    "collapsed": false
   }
  },
  {
   "cell_type": "code",
   "execution_count": 11,
   "outputs": [
    {
     "name": "stdout",
     "output_type": "stream",
     "text": [
      "Euler Characteristic sc\n",
      "-18\n"
     ]
    }
   ],
   "source": [
    "sc = SimplicialComplex(sc.skeleton(1))\n",
    "\n",
    "print(\"Euler Characteristic sc\")\n",
    "print(sc.euler_characteristic())"
   ],
   "metadata": {
    "collapsed": false
   }
  },
  {
   "cell_type": "markdown",
   "source": [
    "### Ejemplo 9 - Plano proyectivo"
   ],
   "metadata": {
    "collapsed": false
   }
  },
  {
   "cell_type": "code",
   "execution_count": 12,
   "outputs": [
    {
     "name": "stdout",
     "output_type": "stream",
     "text": [
      "Dimension sc\n",
      "2\n",
      "N_faces(1)\n",
      "[(1, 2), (1, 3), (1, 4), (1, 5), (1, 6), (2, 3), (2, 4), (2, 5), (2, 6), (3, 4), (3, 5), (3, 6), (4, 5), (4, 6), (5, 6)]\n",
      "Star((1,)) sc\n",
      "[(1,), (1, 2), (1, 2, 5), (1, 2, 6), (1, 3), (1, 3, 4), (1, 3, 6), (1, 4), (1, 4, 5), (1, 5), (1, 6)]\n",
      "Link((1,)) sc\n",
      "[(), (2,), (2, 5), (2, 6), (3,), (3, 4), (3, 6), (4,), (4, 5), (5,), (6,)]\n",
      "Euler Characteristic sc\n",
      "1\n",
      "Connected components sc\n",
      "1\n"
     ]
    }
   ],
   "source": [
    "sc = plano_proyectivo\n",
    "\n",
    "print(\"Dimension sc\")\n",
    "print(sc.dimension())\n",
    "print(\"N_faces(1)\")\n",
    "print(sc.n_faces(1))\n",
    "print(\"Star((1,)) sc\")\n",
    "print(sc.star((1,)))\n",
    "print(\"Link((1,)) sc\")\n",
    "print(sc.link((1,)))\n",
    "print(\"Euler Characteristic sc\")\n",
    "print(sc.euler_characteristic())\n",
    "print(\"Connected components sc\")\n",
    "print(sc.connected_components())"
   ],
   "metadata": {
    "collapsed": false
   }
  },
  {
   "cell_type": "markdown",
   "source": [
    "### Ejemplo 10 - 1-Esqueleto Plano proyectivo"
   ],
   "metadata": {
    "collapsed": false
   }
  },
  {
   "cell_type": "code",
   "execution_count": 13,
   "outputs": [
    {
     "name": "stdout",
     "output_type": "stream",
     "text": [
      "Euler Characteristic sc\n",
      "-9\n"
     ]
    }
   ],
   "source": [
    "sc = SimplicialComplex(sc.skeleton(1))\n",
    "\n",
    "print(\"Euler Characteristic sc\")\n",
    "print(sc.euler_characteristic())"
   ],
   "metadata": {
    "collapsed": false
   }
  },
  {
   "cell_type": "markdown",
   "source": [
    "### Ejemplo 11"
   ],
   "metadata": {
    "collapsed": false
   }
  },
  {
   "cell_type": "code",
   "execution_count": 14,
   "outputs": [
    {
     "name": "stdout",
     "output_type": "stream",
     "text": [
      "FaceSet sc\n",
      "[(), (0,), (1,), (2,), (2, 3), (3,), (4,), (4, 5), (4, 6), (5,), (5, 6), (6,), (6, 7), (6, 7, 8), (6, 7, 8, 9), (6, 7, 9), (6, 8), (6, 8, 9), (6, 9), (7,), (7, 8), (7, 8, 9), (7, 9), (8,), (8, 9), (9,)]\n",
      "Dimension sc\n",
      "3\n",
      "Skeleton(1) sc\n",
      "[(), (0,), (1,), (2,), (2, 3), (3,), (4,), (4, 5), (4, 6), (5,), (5, 6), (6,), (6, 7), (6, 8), (6, 9), (7,), (7, 8), (7, 9), (8,), (8, 9), (9,)]\n",
      "Star((6,)) sc\n",
      "[(4, 6), (5, 6), (6,), (6, 7), (6, 7, 8), (6, 7, 8, 9), (6, 7, 9), (6, 8), (6, 8, 9), (6, 9)]\n",
      "Link((6,)) sc\n",
      "[(), (4,), (5,), (7,), (7, 8), (7, 8, 9), (7, 9), (8,), (8, 9), (9,)]\n",
      "Euler Characteristic sc\n",
      "3\n",
      "Connected components sc\n",
      "4\n"
     ]
    }
   ],
   "source": [
    "sc = SimplicialComplex({(0,), (1,), (2, 3), (4, 5), (5, 6), (4, 6), (6, 7, 8, 9)})\n",
    "\n",
    "print(\"FaceSet sc\")\n",
    "print(sc.face_set())\n",
    "print(\"Dimension sc\")\n",
    "print(sc.dimension())\n",
    "print(\"Skeleton(1) sc\")\n",
    "print(sc.skeleton(1))\n",
    "print(\"Star((6,)) sc\")\n",
    "print(sc.star((6,)))\n",
    "print(\"Link((6,)) sc\")\n",
    "print(sc.link((6,)))\n",
    "print(\"Euler Characteristic sc\")\n",
    "print(sc.euler_characteristic())\n",
    "print(\"Connected components sc\")\n",
    "print(sc.connected_components())"
   ],
   "metadata": {
    "collapsed": false
   }
  },
  {
   "cell_type": "markdown",
   "source": [
    "### Ejemplo 12 - Botella de Klein"
   ],
   "metadata": {
    "collapsed": false
   }
  },
  {
   "cell_type": "code",
   "execution_count": 15,
   "outputs": [
    {
     "name": "stdout",
     "output_type": "stream",
     "text": [
      "FaceSet sc\n",
      "[(), (0,), (0, 1), (0, 1, 3), (0, 1, 7), (0, 2), (0, 2, 3), (0, 2, 5), (0, 3), (0, 5), (0, 5, 6), (0, 6), (0, 6, 7), (0, 7), (1,), (1, 2), (1, 2, 4), (1, 2, 8), (1, 3), (1, 3, 4), (1, 4), (1, 7), (1, 7, 8), (1, 8), (2,), (2, 3), (2, 3, 8), (2, 4), (2, 4, 5), (2, 5), (2, 8), (3,), (3, 4), (3, 4, 6), (3, 6), (3, 6, 8), (3, 8), (4,), (4, 5), (4, 5, 7), (4, 6), (4, 6, 7), (4, 7), (5,), (5, 6), (5, 6, 8), (5, 7), (5, 7, 8), (5, 8), (6,), (6, 7), (6, 8), (7,), (7, 8), (8,)]\n",
      "Dimension sc\n",
      "2\n",
      "Skeleton(1) sc\n",
      "[(), (0,), (0, 1), (0, 2), (0, 3), (0, 5), (0, 6), (0, 7), (1,), (1, 2), (1, 3), (1, 4), (1, 7), (1, 8), (2,), (2, 3), (2, 4), (2, 5), (2, 8), (3,), (3, 4), (3, 6), (3, 8), (4,), (4, 5), (4, 6), (4, 7), (5,), (5, 6), (5, 7), (5, 8), (6,), (6, 7), (6, 8), (7,), (7, 8), (8,)]\n",
      "Star((6,)) sc\n",
      "[(0, 5, 6), (0, 6), (0, 6, 7), (3, 4, 6), (3, 6), (3, 6, 8), (4, 6), (4, 6, 7), (5, 6), (5, 6, 8), (6,), (6, 7), (6, 8)]\n",
      "Link((6,)) sc\n",
      "[(), (0,), (0, 5), (0, 7), (3,), (3, 4), (3, 8), (4,), (4, 7), (5,), (5, 8), (7,), (8,)]\n",
      "Euler Characteristic sc\n",
      "0\n",
      "Connected components sc\n",
      "1\n",
      "1 2 1\n"
     ]
    }
   ],
   "source": [
    "sc = botella_klein\n",
    "print(\"FaceSet sc\")\n",
    "print(sc.face_set())\n",
    "print(\"Dimension sc\")\n",
    "print(sc.dimension())\n",
    "print(\"Skeleton(1) sc\")\n",
    "print(sc.skeleton(1))\n",
    "print(\"Star((6,)) sc\")\n",
    "print(sc.star((6,)))\n",
    "print(\"Link((6,)) sc\")\n",
    "print(sc.link((6,)))\n",
    "print(\"Euler Characteristic sc\")\n",
    "print(sc.euler_characteristic())\n",
    "print(\"Connected components sc\")\n",
    "print(sc.connected_components())\n",
    "\n",
    "\n",
    "\n",
    "print (sc.betti_number (0) ,sc.betti_number(1),sc.betti_number(2))\n",
    "\n"
   ],
   "metadata": {
    "collapsed": false
   }
  },
  {
   "cell_type": "markdown",
   "source": [
    "### Ejemplo 13 - Doble Toro\n"
   ],
   "metadata": {
    "collapsed": false
   }
  },
  {
   "cell_type": "code",
   "execution_count": 16,
   "outputs": [
    {
     "name": "stdout",
     "output_type": "stream",
     "text": [
      "FaceSet sc\n",
      "[(), (0,), (0, 1), (0, 1, 7), (0, 1, 11), (0, 2), (0, 2, 3), (0, 2, 6), (0, 3), (0, 3, 7), (0, 4), (0, 4, 6), (0, 4, 9), (0, 6), (0, 7), (0, 9), (0, 9, 14), (0, 11), (0, 11, 13), (0, 13), (0, 13, 14), (0, 14), (1,), (1, 2), (1, 2, 8), (1, 2, 10), (1, 4), (1, 4, 10), (1, 7), (1, 7, 8), (1, 8), (1, 10), (1, 10, 14), (1, 11), (1, 11, 12), (1, 12), (1, 12, 14), (1, 14), (2,), (2, 3), (2, 3, 8), (2, 6), (2, 6, 10), (2, 8), (2, 10), (3,), (3, 4), (3, 4, 8), (3, 4, 10), (3, 7), (3, 7, 10), (3, 8), (3, 10), (4,), (4, 6), (4, 6, 8), (4, 8), (4, 9), (4, 9, 12), (4, 10), (4, 10, 13), (4, 12), (4, 12, 13), (4, 13), (6,), (6, 7), (6, 7, 8), (6, 7, 10), (6, 8), (6, 10), (7,), (7, 8), (7, 10), (8,), (9,), (9, 10), (9, 10, 11), (9, 10, 14), (9, 11), (9, 11, 12), (9, 12), (9, 14), (10,), (10, 11), (10, 11, 13), (10, 13), (10, 14), (11,), (11, 12), (11, 13), (12,), (12, 13), (12, 13, 14), (12, 14), (13,), (13, 14), (14,)]\n",
      "Dimension sc\n",
      "2\n",
      "Skeleton(1) sc\n",
      "[(), (0,), (0, 1), (0, 2), (0, 3), (0, 4), (0, 6), (0, 7), (0, 9), (0, 11), (0, 13), (0, 14), (1,), (1, 2), (1, 4), (1, 7), (1, 8), (1, 10), (1, 11), (1, 12), (1, 14), (2,), (2, 3), (2, 6), (2, 8), (2, 10), (3,), (3, 4), (3, 7), (3, 8), (3, 10), (4,), (4, 6), (4, 8), (4, 9), (4, 10), (4, 12), (4, 13), (6,), (6, 7), (6, 8), (6, 10), (7,), (7, 8), (7, 10), (8,), (9,), (9, 10), (9, 11), (9, 12), (9, 14), (10,), (10, 11), (10, 13), (10, 14), (11,), (11, 12), (11, 13), (12,), (12, 13), (12, 14), (13,), (13, 14), (14,)]\n",
      "Star((6,)) sc\n",
      "[(0, 2, 6), (0, 4, 6), (0, 6), (2, 6), (2, 6, 10), (4, 6), (4, 6, 8), (6,), (6, 7), (6, 7, 8), (6, 7, 10), (6, 8), (6, 10)]\n",
      "Link((6,)) sc\n",
      "[(), (0,), (0, 2), (0, 4), (2,), (2, 10), (4,), (4, 8), (7,), (7, 8), (7, 10), (8,), (10,)]\n",
      "Euler Characteristic sc\n",
      "-2\n",
      "Connected components sc\n",
      "1\n"
     ]
    }
   ],
   "source": [
    "sc = SimplicialComplex([ (10, 13, 11), (11, 1, 12),(6, 7, 8), (4, 6, 8), (2, 10, 6), (2, 0, 6), (4, 0, 6), (9, 12, 11), (1, 12, 14), (12, 13, 14),(13, 14, 0), (0, 11, 1), (11, 13, 0), (1, 14, 10), (10, 14, 9),(9, 0, 4), (10, 9, 11), (4, 12, 13), (4, 9, 12), (4, 13, 10), (9, 14, 0), (4, 1, 10),(4, 8, 3), (3, 7, 0),(1, 2, 10),  (4, 10, 3), (10, 7, 3), (10, 7, 6), (0, 1, 7), (1, 7, 8), (1, 2, 8),(2, 8, 3),(0, 2, 3)])\n",
    "\n",
    "print(\"FaceSet sc\")\n",
    "print(sc.face_set())\n",
    "print(\"Dimension sc\")\n",
    "print(sc.dimension())\n",
    "print(\"Skeleton(1) sc\")\n",
    "print(sc.skeleton(1))\n",
    "print(\"Star((6,)) sc\")\n",
    "print(sc.star((6,)))\n",
    "print(\"Link((6,)) sc\")\n",
    "print(sc.link((6,)))\n",
    "print(\"Euler Characteristic sc\")\n",
    "print(sc.euler_characteristic())\n",
    "print(\"Connected components sc\")\n",
    "print(sc.connected_components())"
   ],
   "metadata": {
    "collapsed": false
   }
  },
  {
   "cell_type": "markdown",
   "source": [
    "### Ejemplo 14 - Botella de Klein\n"
   ],
   "metadata": {
    "collapsed": false
   }
  },
  {
   "cell_type": "code",
   "execution_count": 17,
   "outputs": [
    {
     "name": "stdout",
     "output_type": "stream",
     "text": [
      "FaceSet sc\n",
      "[(), (1,), (1, 2), (1, 2, 4), (1, 2, 7), (1, 2, 8), (1, 3), (1, 3, 4), (1, 3, 5), (1, 3, 6), (1, 4), (1, 5), (1, 5, 6), (1, 6), (1, 7), (1, 7, 8), (1, 8), (2,), (2, 3), (2, 3, 5), (2, 3, 7), (2, 3, 8), (2, 4), (2, 4, 5), (2, 5), (2, 7), (2, 8), (3,), (3, 4), (3, 4, 8), (3, 5), (3, 6), (3, 6, 7), (3, 7), (3, 8), (4,), (4, 5), (4, 5, 6), (4, 6), (4, 6, 8), (4, 8), (5,), (5, 6), (6,), (6, 7), (6, 7, 8), (6, 8), (7,), (7, 8), (8,)]\n",
      "Dimension sc\n",
      "2\n",
      "Skeleton(1) sc\n",
      "[(), (1,), (1, 2), (1, 3), (1, 4), (1, 5), (1, 6), (1, 7), (1, 8), (2,), (2, 3), (2, 4), (2, 5), (2, 7), (2, 8), (3,), (3, 4), (3, 5), (3, 6), (3, 7), (3, 8), (4,), (4, 5), (4, 6), (4, 8), (5,), (5, 6), (6,), (6, 7), (6, 8), (7,), (7, 8), (8,)]\n",
      "Star((6,)) sc\n",
      "[(1, 3, 6), (1, 5, 6), (1, 6), (3, 6), (3, 6, 7), (4, 5, 6), (4, 6), (4, 6, 8), (5, 6), (6,), (6, 7), (6, 7, 8), (6, 8)]\n",
      "Link((6,)) sc\n",
      "[(), (1,), (1, 3), (1, 5), (3,), (3, 7), (4,), (4, 5), (4, 8), (5,), (7,), (7, 8), (8,)]\n",
      "Euler Characteristic sc\n",
      "1\n",
      "Connected components sc\n",
      "1\n"
     ]
    }
   ],
   "source": [
    "sc = SimplicialComplex([(1, 2, 4), (1, 3, 4), (2, 3, 5), (2, 4, 5), (2, 3, 8), (3, 4, 8), (1, 2, 8), (1, 8, 7), (1, 2, 7), (2, 3, 7), (4, 6, 8), (3, 6, 7), (4, 5, 6), (1, 3, 6), (1, 5, 6), (1, 3, 5), (6, 7, 8)])\n",
    "\n",
    "print(\"FaceSet sc\")\n",
    "print(sc.face_set())\n",
    "print(\"Dimension sc\")\n",
    "print(sc.dimension())\n",
    "print(\"Skeleton(1) sc\")\n",
    "print(sc.skeleton(1))\n",
    "print(\"Star((6,)) sc\")\n",
    "print(sc.star((6,)))\n",
    "print(\"Link((6,)) sc\")\n",
    "print(sc.link((6,)))\n",
    "print(\"Euler Characteristic sc\")\n",
    "print(sc.euler_characteristic())\n",
    "print(\"Connected components sc\")\n",
    "print(sc.connected_components())"
   ],
   "metadata": {
    "collapsed": false
   }
  }
 ],
 "metadata": {
  "kernelspec": {
   "display_name": "Python 3",
   "language": "python",
   "name": "python3"
  },
  "language_info": {
   "codemirror_mode": {
    "name": "ipython",
    "version": 2
   },
   "file_extension": ".py",
   "mimetype": "text/x-python",
   "name": "python",
   "nbconvert_exporter": "python",
   "pygments_lexer": "ipython2",
   "version": "2.7.6"
  }
 },
 "nbformat": 4,
 "nbformat_minor": 0
}
