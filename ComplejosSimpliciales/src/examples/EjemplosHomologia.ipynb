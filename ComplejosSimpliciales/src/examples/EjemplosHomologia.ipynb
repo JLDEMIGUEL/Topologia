{
 "cells": [
  {
   "cell_type": "markdown",
   "metadata": {},
   "source": [
    "# Ejemplos Homologia\n"
   ]
  },
  {
   "cell_type": "code",
   "execution_count": 19,
   "metadata": {
    "collapsed": true
   },
   "outputs": [
    {
     "name": "stdout",
     "output_type": "stream",
     "text": [
      "The autoreload extension is already loaded. To reload it, use:\n",
      "  %reload_ext autoreload\n"
     ]
    }
   ],
   "source": [
    "from pathlib import Path\n",
    "import os\n",
    "import sys\n",
    "sys.path.append(os.path.dirname(Path(os.getcwd()).parent.parent))\n",
    "import json\n",
    "from ComplejosSimpliciales.src.AlphaComplex import AlphaComplex\n",
    "from ComplejosSimpliciales.src.SimplicialComplex import SimplicialComplex\n",
    "from ComplejosSimpliciales.src.utils.constants import tetraedro, tetraedro_borde, anillo, toro, plano_proyectivo\n",
    "CLOUD_PATH = os.path.join(os.path.dirname(Path(os.getcwd()).parent.parent),\"docs\",\"clouds.json\")\n",
    "%load_ext autoreload\n",
    "%autoreload 2"
   ]
  },
  {
   "cell_type": "markdown",
   "metadata": {},
   "source": [
    "### Ejemplos Algoritmo Incremental"
   ]
  },
  {
   "cell_type": "code",
   "execution_count": 20,
   "metadata": {},
   "outputs": [
    {
     "name": "stdout",
     "output_type": "stream",
     "text": [
      "[1, 0]\n",
      "[1, 1]\n",
      "[1, 2]\n"
     ]
    }
   ],
   "source": [
    "sc=SimplicialComplex([(0,1,2),(2,3),(3,4)])\n",
    "print(sc.algoritmo_incremental())\n",
    "sc=SimplicialComplex([(0,1),(1,2),(0,2),(2,3),(3,4)])\n",
    "print(sc.algoritmo_incremental())\n",
    "sc=SimplicialComplex([(0,1),(1,2),(0,2),(2,3),(3,4),(2,4)])\n",
    "print(sc.algoritmo_incremental())"
   ]
  },
  {
   "cell_type": "markdown",
   "metadata": {},
   "source": [
    "### Ejemplo 1\n",
    "Tetraedro"
   ]
  },
  {
   "cell_type": "code",
   "execution_count": 21,
   "metadata": {},
   "outputs": [
    {
     "name": "stdout",
     "output_type": "stream",
     "text": [
      "1 0 0 0\n"
     ]
    }
   ],
   "source": [
    "sc = tetraedro\n",
    "print(sc.betti_number(0), sc.betti_number(1), sc.betti_number(2), sc.betti_number(3))"
   ]
  },
  {
   "cell_type": "markdown",
   "metadata": {},
   "source": [
    "### Ejemplo 2\n",
    "Borde del Tetraedro"
   ]
  },
  {
   "cell_type": "code",
   "execution_count": 22,
   "metadata": {},
   "outputs": [
    {
     "name": "stdout",
     "output_type": "stream",
     "text": [
      "1 0 1\n"
     ]
    }
   ],
   "source": [
    "sc1= tetraedro_borde\n",
    "print (sc1.betti_number(0) ,sc1.betti_number(1) ,sc1.betti_number(2))"
   ]
  },
  {
   "cell_type": "markdown",
   "metadata": {},
   "source": [
    "### Ejemplo 3"
   ]
  },
  {
   "cell_type": "code",
   "execution_count": 23,
   "metadata": {},
   "outputs": [
    {
     "name": "stdout",
     "output_type": "stream",
     "text": [
      "1 1 0 0\n"
     ]
    }
   ],
   "source": [
    "sc = SimplicialComplex([(0, 1), (1, 2, 3, 4), (4, 5), (5, 6), (4, 6), (6, 7, 8), (8, 9)])\n",
    "print(sc.betti_number(0), sc.betti_number(1), sc.betti_number(2), sc.betti_number(3))"
   ]
  },
  {
   "cell_type": "markdown",
   "metadata": {},
   "source": [
    "### Ejemplo 4\n",
    "1-esqueleto anterior"
   ]
  },
  {
   "cell_type": "code",
   "execution_count": 24,
   "metadata": {},
   "outputs": [
    {
     "name": "stdout",
     "output_type": "stream",
     "text": [
      "1 5\n"
     ]
    }
   ],
   "source": [
    "sc = SimplicialComplex([(0, 1), (1, 2, 3, 4), (4, 5), (5, 6), (4, 6), (6, 7, 8), (8, 9)])\n",
    "sc = SimplicialComplex(list(sc.n_faces(1)))\n",
    "print(sc.betti_number(0), sc.betti_number(1))"
   ]
  },
  {
   "cell_type": "markdown",
   "metadata": {},
   "source": [
    "### Ejemplo 5"
   ]
  },
  {
   "cell_type": "code",
   "execution_count": 25,
   "metadata": {},
   "outputs": [
    {
     "name": "stdout",
     "output_type": "stream",
     "text": [
      "1 0 0\n"
     ]
    }
   ],
   "source": [
    "sc=SimplicialComplex([(0,1,2),(2,3),(3,4)])\n",
    "print (sc.betti_number(0) ,sc.betti_number(1),sc.betti_number(2))"
   ]
  },
  {
   "cell_type": "markdown",
   "metadata": {},
   "source": [
    "### Ejemplo 6\n",
    "Anillo cerrado"
   ]
  },
  {
   "cell_type": "code",
   "execution_count": 26,
   "metadata": {},
   "outputs": [
    {
     "name": "stdout",
     "output_type": "stream",
     "text": [
      "1 1 0\n"
     ]
    }
   ],
   "source": [
    "sc= anillo\n",
    "print (sc.betti_number(0) ,sc.betti_number(1),sc.betti_number(2))"
   ]
  },
  {
   "cell_type": "markdown",
   "metadata": {},
   "source": [
    "### Ejemplo 7\n",
    "1-esqueleto anillo cerrado"
   ]
  },
  {
   "cell_type": "code",
   "execution_count": 27,
   "metadata": {},
   "outputs": [
    {
     "name": "stdout",
     "output_type": "stream",
     "text": [
      "1 7\n"
     ]
    }
   ],
   "source": [
    "sc=SimplicialComplex([(1,2,4),(1,3,6), (1,4,6),(2,3,5),(2,4,5), (3,5,6)])\n",
    "sc1=SimplicialComplex(list(sc.n_faces(1)))\n",
    "print (sc1.betti_number(0),sc1.betti_number(1))"
   ]
  },
  {
   "cell_type": "markdown",
   "metadata": {},
   "source": [
    "### Ejemplo 8\n",
    "Toro"
   ]
  },
  {
   "cell_type": "code",
   "execution_count": 28,
   "metadata": {},
   "outputs": [
    {
     "name": "stdout",
     "output_type": "stream",
     "text": [
      "1 2 1\n"
     ]
    }
   ],
   "source": [
    "sc= toro\n",
    "print (sc.betti_number (0) ,sc.betti_number(1),sc.betti_number(2))"
   ]
  },
  {
   "cell_type": "markdown",
   "metadata": {},
   "source": [
    "### Ejemplo 8\n",
    "1-esqueleto del toro"
   ]
  },
  {
   "cell_type": "code",
   "execution_count": 29,
   "metadata": {},
   "outputs": [
    {
     "name": "stdout",
     "output_type": "stream",
     "text": [
      "1 19\n"
     ]
    }
   ],
   "source": [
    "sc= toro\n",
    "sc1 = SimplicialComplex(list(sc.n_faces(1)))\n",
    "print(sc1.betti_number(0), sc1.betti_number(1))"
   ]
  },
  {
   "cell_type": "markdown",
   "metadata": {},
   "source": [
    "### Ejemplo 9\n",
    "Plano proyectivo"
   ]
  },
  {
   "cell_type": "code",
   "execution_count": 30,
   "metadata": {},
   "outputs": [
    {
     "name": "stdout",
     "output_type": "stream",
     "text": [
      "1 1 1\n"
     ]
    }
   ],
   "source": [
    "sc= plano_proyectivo\n",
    "print (sc.betti_number (0) ,sc.betti_number(1),sc.betti_number(2))"
   ]
  },
  {
   "cell_type": "markdown",
   "metadata": {},
   "source": [
    "### Ejemplo 10"
   ]
  },
  {
   "cell_type": "code",
   "execution_count": 31,
   "metadata": {},
   "outputs": [
    {
     "name": "stdout",
     "output_type": "stream",
     "text": [
      "4 1 0 0\n"
     ]
    }
   ],
   "source": [
    "sc=SimplicialComplex([(0,), (1,), (2,3), (4,5), (5,6), (4,6), (6,7,8,9)])\n",
    "print (sc.betti_number (0) ,sc.betti_number(1),sc.betti_number (2) ,sc.betti_number(3))"
   ]
  },
  {
   "cell_type": "markdown",
   "source": [
    "### Ejemplo 11\n",
    "Doble Toro"
   ],
   "metadata": {
    "collapsed": false
   }
  },
  {
   "cell_type": "code",
   "execution_count": 32,
   "outputs": [
    {
     "name": "stdout",
     "output_type": "stream",
     "text": [
      "1 4 1\n"
     ]
    }
   ],
   "source": [
    "sc = SimplicialComplex([ (10, 13, 11), (11, 1, 12),(6, 7, 8), (4, 6, 8), (2, 10, 6), (2, 0, 6), (4, 0, 6), (9, 12, 11), (1, 12, 14), (12, 13, 14),(13, 14, 0), (0, 11, 1), (11, 13, 0), (1, 14, 10), (10, 14, 9),(9, 0, 4), (10, 9, 11), (4, 12, 13), (4, 9, 12), (4, 13, 10), (9, 14, 0), (4, 1, 10),(4, 8, 3), (3, 7, 0),(1, 2, 10),  (4, 10, 3), (10, 7, 3), (10, 7, 6), (0, 1, 7), (1, 7, 8), (1, 2, 8),(2, 8, 3),(0, 2, 3)])\n",
    "print (sc.betti_number (0) ,sc.betti_number(1),sc.betti_number (2))"
   ],
   "metadata": {
    "collapsed": false
   }
  },
  {
   "cell_type": "markdown",
   "source": [
    "### Ejemplo 12\n",
    "Sombrero del Asno"
   ],
   "metadata": {
    "collapsed": false
   }
  },
  {
   "cell_type": "code",
   "execution_count": 33,
   "outputs": [
    {
     "name": "stdout",
     "output_type": "stream",
     "text": [
      "1 0 0\n"
     ]
    }
   ],
   "source": [
    "sc = SimplicialComplex([(1, 2, 4), (1, 3, 4), (2, 3, 5), (2, 4, 5), (2, 3, 8), (3, 4, 8), (1, 2, 8), (1, 8, 7), (1, 2, 7), (2, 3, 7), (4, 6, 8), (3, 6, 7), (4, 5, 6), (1, 3, 6), (1, 5, 6), (1, 3, 5), (6, 7, 8)])\n",
    "print (sc.betti_number (0) ,sc.betti_number(1),sc.betti_number (2))"
   ],
   "metadata": {
    "collapsed": false
   }
  },
  {
   "cell_type": "markdown",
   "metadata": {},
   "source": [
    "### Ejemplo 11\n",
    "AlphaComplejo 1"
   ]
  },
  {
   "cell_type": "code",
   "execution_count": 34,
   "metadata": {},
   "outputs": [
    {
     "name": "stdout",
     "output_type": "stream",
     "text": [
      "1 0 0\n",
      "[1, 0]\n"
     ]
    }
   ],
   "source": [
    "points = json.load(open(CLOUD_PATH))['alpha1']\n",
    "sc = AlphaComplex(points)\n",
    "print (sc.betti_number (0) ,sc.betti_number(1),sc.betti_number (2))\n",
    "print(sc.algoritmo_incremental())"
   ]
  },
  {
   "cell_type": "markdown",
   "metadata": {},
   "source": [
    "### Ejemplo 12\n",
    "AlphaComplejo 2"
   ]
  },
  {
   "cell_type": "code",
   "execution_count": 35,
   "metadata": {},
   "outputs": [
    {
     "name": "stdout",
     "output_type": "stream",
     "text": [
      "1 0 0\n",
      "[1, 0]\n"
     ]
    }
   ],
   "source": [
    "points = points = json.load(open(CLOUD_PATH))['alpha2']\n",
    "sc = AlphaComplex(points)\n",
    "print (sc.betti_number (0) ,sc.betti_number(1),sc.betti_number (2))\n",
    "print(sc.algoritmo_incremental())"
   ]
  },
  {
   "cell_type": "markdown",
   "metadata": {},
   "source": [
    "### Ejemplo 13\n",
    "AlphaComplejo 3"
   ]
  },
  {
   "cell_type": "code",
   "execution_count": 36,
   "metadata": {},
   "outputs": [
    {
     "name": "stdout",
     "output_type": "stream",
     "text": [
      "1 0 0\n",
      "[1, 0]\n"
     ]
    }
   ],
   "source": [
    "points = json.load(open(CLOUD_PATH))['alpha3']\n",
    "\n",
    "sc = AlphaComplex(points)\n",
    "print (sc.betti_number (0) ,sc.betti_number(1),sc.betti_number (2))\n",
    "print(sc.algoritmo_incremental())"
   ]
  }
 ],
 "metadata": {
  "kernelspec": {
   "display_name": "Python 3 (ipykernel)",
   "language": "python",
   "name": "python3"
  },
  "language_info": {
   "codemirror_mode": {
    "name": "ipython",
    "version": 3
   },
   "file_extension": ".py",
   "mimetype": "text/x-python",
   "name": "python",
   "nbconvert_exporter": "python",
   "pygments_lexer": "ipython3",
   "version": "3.11.0"
  }
 },
 "nbformat": 4,
 "nbformat_minor": 1
}
