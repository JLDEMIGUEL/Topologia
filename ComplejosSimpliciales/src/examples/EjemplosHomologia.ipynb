{
 "cells": [
  {
   "cell_type": "markdown",
   "source": [
    "# Ejemplos Homologia\n"
   ],
   "metadata": {
    "collapsed": false
   }
  },
  {
   "cell_type": "code",
   "execution_count": 8,
   "metadata": {
    "collapsed": true
   },
   "outputs": [
    {
     "name": "stdout",
     "output_type": "stream",
     "text": [
      "The autoreload extension is already loaded. To reload it, use:\n",
      "  %reload_ext autoreload\n"
     ]
    }
   ],
   "source": [
    "from pathlib import Path\n",
    "import json\n",
    "import os\n",
    "import numpy as np\n",
    "from ComplejosSimpliciales.src.AlphaComplex import AlphaComplex\n",
    "from ComplejosSimpliciales.src.SimplicialComplex import SimplicialComplex\n",
    "from utils.constants import tetraedro, tetraedro_borde, anillo, toro, plano_proyectivo\n",
    "ROOT_DIR = os.path.dirname(Path(os.getcwd()).parent.parent)\n",
    "%load_ext autoreload\n",
    "%autoreload 2"
   ]
  },
  {
   "cell_type": "markdown",
   "source": [
    "### Ejemplo 1\n",
    "Tetraedro"
   ],
   "metadata": {
    "collapsed": false
   }
  },
  {
   "cell_type": "code",
   "execution_count": 54,
   "outputs": [
    {
     "name": "stdout",
     "output_type": "stream",
     "text": [
      "dimzp 4 dimbp 3 bp 1\n",
      "dimzp 3 dimbp 3 bp 0\n",
      "dimzp 1 dimbp 1 bp 0\n",
      "dimzp 0 dimbp 0 bp 0\n",
      "1 0 0 0\n"
     ]
    }
   ],
   "source": [
    "sc = tetraedro\n",
    "print(sc.betti_number(0), sc.betti_number(1), sc.betti_number(2), sc.betti_number(3))"
   ],
   "metadata": {
    "collapsed": false
   }
  },
  {
   "cell_type": "markdown",
   "source": [
    "### Ejemplo 2\n",
    "Borde del Tetraedro"
   ],
   "metadata": {
    "collapsed": false
   }
  },
  {
   "cell_type": "code",
   "execution_count": 55,
   "outputs": [
    {
     "name": "stdout",
     "output_type": "stream",
     "text": [
      "dimzp 4 dimbp 3 bp 1\n",
      "dimzp 3 dimbp 3 bp 0\n",
      "dimzp 1 dimbp 0 bp 1\n",
      "1 0 1\n"
     ]
    }
   ],
   "source": [
    "sc1= tetraedro_borde\n",
    "print (sc1.betti_number(0) ,sc1.betti_number(1) ,sc1.betti_number(2))"
   ],
   "metadata": {
    "collapsed": false
   }
  },
  {
   "cell_type": "markdown",
   "source": [
    "### Ejemplo 3"
   ],
   "metadata": {
    "collapsed": false
   }
  },
  {
   "cell_type": "code",
   "execution_count": 56,
   "outputs": [
    {
     "name": "stdout",
     "output_type": "stream",
     "text": [
      "dimzp 10 dimbp 9 bp 1\n",
      "dimzp 5 dimbp 4 bp 1\n",
      "dimzp 1 dimbp 1 bp 0\n",
      "dimzp 0 dimbp 0 bp 0\n",
      "1 1 0 0\n"
     ]
    }
   ],
   "source": [
    "sc = SimplicialComplex([(0, 1), (1, 2, 3, 4), (4, 5), (5, 6), (4, 6), (6, 7, 8), (8, 9)])\n",
    "print(sc.betti_number(0), sc.betti_number(1), sc.betti_number(2), sc.betti_number(3))"
   ],
   "metadata": {
    "collapsed": false
   }
  },
  {
   "cell_type": "markdown",
   "source": [
    "### Ejemplo 4\n",
    "1-esqueleto anterior"
   ],
   "metadata": {
    "collapsed": false
   }
  },
  {
   "cell_type": "code",
   "execution_count": 57,
   "outputs": [
    {
     "name": "stdout",
     "output_type": "stream",
     "text": [
      "dimzp 10 dimbp 9 bp 1\n",
      "dimzp 5 dimbp 0 bp 5\n",
      "1 5\n"
     ]
    }
   ],
   "source": [
    "sc = SimplicialComplex([(0, 1), (1, 2, 3, 4), (4, 5), (5, 6), (4, 6), (6, 7, 8), (8, 9)])\n",
    "sc = SimplicialComplex(list(sc.n_faces(1)))\n",
    "print(sc.betti_number(0), sc.betti_number(1))"
   ],
   "metadata": {
    "collapsed": false
   }
  },
  {
   "cell_type": "markdown",
   "source": [
    "### Ejemplo 5"
   ],
   "metadata": {
    "collapsed": false
   }
  },
  {
   "cell_type": "code",
   "execution_count": 58,
   "outputs": [
    {
     "name": "stdout",
     "output_type": "stream",
     "text": [
      "dimzp 5 dimbp 4 bp 1\n",
      "dimzp 1 dimbp 1 bp 0\n",
      "dimzp 0 dimbp 0 bp 0\n",
      "1 0 0\n"
     ]
    }
   ],
   "source": [
    "sc=SimplicialComplex([(0,1,2),(2,3),(3,4)])\n",
    "print (sc.betti_number(0) ,sc.betti_number(1),sc.betti_number(2))"
   ],
   "metadata": {
    "collapsed": false
   }
  },
  {
   "cell_type": "markdown",
   "source": [
    "### Ejemplo 6\n",
    "Anillo cerrado"
   ],
   "metadata": {
    "collapsed": false
   }
  },
  {
   "cell_type": "code",
   "execution_count": 59,
   "outputs": [
    {
     "name": "stdout",
     "output_type": "stream",
     "text": [
      "dimzp 6 dimbp 5 bp 1\n",
      "dimzp 7 dimbp 6 bp 1\n",
      "dimzp 0 dimbp 0 bp 0\n",
      "1 1 0\n"
     ]
    }
   ],
   "source": [
    "sc= anillo\n",
    "print (sc.betti_number(0) ,sc.betti_number(1),sc.betti_number(2))"
   ],
   "metadata": {
    "collapsed": false
   }
  },
  {
   "cell_type": "markdown",
   "source": [
    "### Ejemplo 7\n",
    "1-esqueleto anillo cerrado"
   ],
   "metadata": {
    "collapsed": false
   }
  },
  {
   "cell_type": "code",
   "execution_count": 60,
   "outputs": [
    {
     "name": "stdout",
     "output_type": "stream",
     "text": [
      "dimzp 6 dimbp 5 bp 1\n",
      "dimzp 7 dimbp 0 bp 7\n",
      "1 7\n"
     ]
    }
   ],
   "source": [
    "sc=SimplicialComplex([(1,2,4),(1,3,6), (1,4,6),(2,3,5),(2,4,5), (3,5,6)])\n",
    "sc1=SimplicialComplex(list(sc.n_faces(1)))\n",
    "print (sc1.betti_number(0),sc1.betti_number(1))"
   ],
   "metadata": {
    "collapsed": false
   }
  },
  {
   "cell_type": "markdown",
   "source": [
    "### Ejemplo 8\n",
    "Toro"
   ],
   "metadata": {
    "collapsed": false
   }
  },
  {
   "cell_type": "code",
   "execution_count": 61,
   "outputs": [
    {
     "name": "stdout",
     "output_type": "stream",
     "text": [
      "dimzp 9 dimbp 8 bp 1\n",
      "dimzp 19 dimbp 17 bp 2\n",
      "dimzp 1 dimbp 0 bp 1\n",
      "1 2 1\n"
     ]
    }
   ],
   "source": [
    "sc= toro\n",
    "print (sc.betti_number (0) ,sc.betti_number(1),sc.betti_number(2))"
   ],
   "metadata": {
    "collapsed": false
   }
  },
  {
   "cell_type": "markdown",
   "source": [
    "### Ejemplo 8\n",
    "1-esqueleto del toro"
   ],
   "metadata": {
    "collapsed": false
   }
  },
  {
   "cell_type": "code",
   "execution_count": 62,
   "outputs": [
    {
     "name": "stdout",
     "output_type": "stream",
     "text": [
      "dimzp 9 dimbp 8 bp 1\n",
      "dimzp 19 dimbp 0 bp 19\n",
      "1 19\n"
     ]
    }
   ],
   "source": [
    "sc= toro\n",
    "sc1 = SimplicialComplex(list(sc.n_faces(1)))\n",
    "print(sc1.betti_number(0), sc1.betti_number(1))"
   ],
   "metadata": {
    "collapsed": false
   }
  },
  {
   "cell_type": "markdown",
   "source": [
    "### Ejemplo 9\n",
    "Plano proyectivo"
   ],
   "metadata": {
    "collapsed": false
   }
  },
  {
   "cell_type": "code",
   "execution_count": 63,
   "outputs": [
    {
     "name": "stdout",
     "output_type": "stream",
     "text": [
      "dimzp 6 dimbp 5 bp 1\n",
      "dimzp 10 dimbp 9 bp 1\n",
      "dimzp 1 dimbp 0 bp 1\n",
      "1 1 1\n"
     ]
    }
   ],
   "source": [
    "sc= plano_proyectivo\n",
    "print (sc.betti_number (0) ,sc.betti_number(1),sc.betti_number(2))"
   ],
   "metadata": {
    "collapsed": false
   }
  },
  {
   "cell_type": "markdown",
   "source": [
    "### Ejemplo 10"
   ],
   "metadata": {
    "collapsed": false
   }
  },
  {
   "cell_type": "code",
   "execution_count": 64,
   "outputs": [
    {
     "name": "stdout",
     "output_type": "stream",
     "text": [
      "dimzp 10 dimbp 6 bp 4\n",
      "dimzp 4 dimbp 3 bp 1\n",
      "dimzp 1 dimbp 1 bp 0\n",
      "dimzp 0 dimbp 0 bp 0\n",
      "4 1 0 0\n"
     ]
    }
   ],
   "source": [
    "sc=SimplicialComplex([(0,), (1,), (2,3), (4,5), (5,6), (4,6), (6,7,8,9)])\n",
    "print (sc.betti_number (0) ,sc.betti_number(1),sc.betti_number (2) ,sc.betti_number(3))"
   ],
   "metadata": {
    "collapsed": false
   }
  },
  {
   "cell_type": "markdown",
   "source": [
    "### Ejemplo 11\n",
    "AlphaComplejo 1"
   ],
   "metadata": {
    "collapsed": false
   }
  },
  {
   "cell_type": "code",
   "execution_count": 9,
   "outputs": [
    {
     "name": "stdout",
     "output_type": "stream",
     "text": [
      "1 0 0\n"
     ]
    }
   ],
   "source": [
    "points = json.load(open(ROOT_DIR+'\\\\docs\\\\clouds.json'))['alpha1']\n",
    "sc = AlphaComplex(points)\n",
    "print (sc.betti_number (0) ,sc.betti_number(1),sc.betti_number (2))"
   ],
   "metadata": {
    "collapsed": false
   }
  },
  {
   "cell_type": "markdown",
   "source": [
    "### Ejemplo 12\n",
    "AlphaComplejo 2"
   ],
   "metadata": {
    "collapsed": false
   }
  },
  {
   "cell_type": "code",
   "execution_count": 10,
   "outputs": [
    {
     "name": "stdout",
     "output_type": "stream",
     "text": [
      "1 0 0\n"
     ]
    }
   ],
   "source": [
    "points = points = json.load(open(ROOT_DIR+'\\\\docs\\\\clouds.json'))['alpha2']\n",
    "sc = AlphaComplex(points)\n",
    "print (sc.betti_number (0) ,sc.betti_number(1),sc.betti_number (2))"
   ],
   "metadata": {
    "collapsed": false
   }
  },
  {
   "cell_type": "markdown",
   "source": [
    "### Ejemplo 13\n",
    "AlphaComplejo 3"
   ],
   "metadata": {
    "collapsed": false
   }
  },
  {
   "cell_type": "code",
   "execution_count": 11,
   "outputs": [
    {
     "name": "stdout",
     "output_type": "stream",
     "text": [
      "1 0 0\n"
     ]
    }
   ],
   "source": [
    "points = json.load(open(ROOT_DIR+'\\\\docs\\\\clouds.json'))['alpha3']\n",
    "\n",
    "sc = AlphaComplex(points)\n",
    "print (sc.betti_number (0) ,sc.betti_number(1),sc.betti_number (2))"
   ],
   "metadata": {
    "collapsed": false
   }
  },
  {
   "cell_type": "markdown",
   "source": [
    "### Ejemplo 14\n",
    "AlphaComplejo 4"
   ],
   "metadata": {
    "collapsed": false
   }
  },
  {
   "cell_type": "code",
   "execution_count": 12,
   "outputs": [
    {
     "name": "stdout",
     "output_type": "stream",
     "text": [
      "1 0 0\n"
     ]
    }
   ],
   "source": [
    "points = json.load(open(ROOT_DIR+'\\\\docs\\\\clouds.json'))['alpha4']\n",
    "\n",
    "sc = AlphaComplex(points)\n",
    "print (sc.betti_number (0) ,sc.betti_number(1),sc.betti_number (2))"
   ],
   "metadata": {
    "collapsed": false
   }
  }
 ],
 "metadata": {
  "kernelspec": {
   "display_name": "Python 3",
   "language": "python",
   "name": "python3"
  },
  "language_info": {
   "codemirror_mode": {
    "name": "ipython",
    "version": 2
   },
   "file_extension": ".py",
   "mimetype": "text/x-python",
   "name": "python",
   "nbconvert_exporter": "python",
   "pygments_lexer": "ipython2",
   "version": "2.7.6"
  }
 },
 "nbformat": 4,
 "nbformat_minor": 0
}
