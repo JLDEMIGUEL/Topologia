{
 "cells": [
  {
   "cell_type": "markdown",
   "source": [
    "# Ejemplos Homologia\n"
   ],
   "metadata": {
    "collapsed": false
   }
  },
  {
   "cell_type": "code",
   "execution_count": 69,
   "metadata": {
    "collapsed": true
   },
   "outputs": [
    {
     "name": "stdout",
     "output_type": "stream",
     "text": [
      "The autoreload extension is already loaded. To reload it, use:\n",
      "  %reload_ext autoreload\n"
     ]
    }
   ],
   "source": [
    "from pathlib import Path\n",
    "import os\n",
    "import sys\n",
    "sys.path.append(os.path.dirname(Path(os.getcwd()).parent.parent))\n",
    "import json\n",
    "import numpy as np\n",
    "from ComplejosSimpliciales.src.AlphaComplex import AlphaComplex\n",
    "from ComplejosSimpliciales.src.SimplicialComplex import SimplicialComplex\n",
    "from ComplejosSimpliciales.src.utils.constants import tetraedro, tetraedro_borde, anillo, toro, plano_proyectivo\n",
    "CLOUD_PATH = os.path.join(os.path.dirname(Path(os.getcwd()).parent.parent),\"docs\",\"clouds.json\")\n",
    "%load_ext autoreload\n",
    "%autoreload 2"
   ]
  },
  {
   "cell_type": "markdown",
   "source": [
    "### Ejemplos Algoritmo Incremental"
   ],
   "metadata": {
    "collapsed": false
   }
  },
  {
   "cell_type": "code",
   "execution_count": 70,
   "outputs": [
    {
     "name": "stdout",
     "output_type": "stream",
     "text": [
      "[1, 0]\n",
      "[1, 1]\n",
      "[1, 2]\n"
     ]
    }
   ],
   "source": [
    "sc=SimplicialComplex([(0,1,2),(2,3),(3,4)])\n",
    "print(sc.algoritmo_incremental())\n",
    "sc=SimplicialComplex([(0,1),(1,2),(0,2),(2,3),(3,4)])\n",
    "print(sc.algoritmo_incremental())\n",
    "sc=SimplicialComplex([(0,1),(1,2),(0,2),(2,3),(3,4),(2,4)])\n",
    "print(sc.algoritmo_incremental())"
   ],
   "metadata": {
    "collapsed": false
   }
  },
  {
   "cell_type": "markdown",
   "source": [
    "### Ejemplo 1\n",
    "Tetraedro"
   ],
   "metadata": {
    "collapsed": false
   }
  },
  {
   "cell_type": "code",
   "execution_count": 71,
   "outputs": [
    {
     "name": "stdout",
     "output_type": "stream",
     "text": [
      "1 0 0 0\n"
     ]
    }
   ],
   "source": [
    "sc = tetraedro\n",
    "print(sc.betti_number(0), sc.betti_number(1), sc.betti_number(2), sc.betti_number(3))"
   ],
   "metadata": {
    "collapsed": false
   }
  },
  {
   "cell_type": "markdown",
   "source": [
    "### Ejemplo 2\n",
    "Borde del Tetraedro"
   ],
   "metadata": {
    "collapsed": false
   }
  },
  {
   "cell_type": "code",
   "execution_count": 72,
   "outputs": [
    {
     "name": "stdout",
     "output_type": "stream",
     "text": [
      "1 0 1\n"
     ]
    }
   ],
   "source": [
    "sc1= tetraedro_borde\n",
    "print (sc1.betti_number(0) ,sc1.betti_number(1) ,sc1.betti_number(2))"
   ],
   "metadata": {
    "collapsed": false
   }
  },
  {
   "cell_type": "markdown",
   "source": [
    "### Ejemplo 3"
   ],
   "metadata": {
    "collapsed": false
   }
  },
  {
   "cell_type": "code",
   "execution_count": 73,
   "outputs": [
    {
     "name": "stdout",
     "output_type": "stream",
     "text": [
      "1 1 0 0\n"
     ]
    }
   ],
   "source": [
    "sc = SimplicialComplex([(0, 1), (1, 2, 3, 4), (4, 5), (5, 6), (4, 6), (6, 7, 8), (8, 9)])\n",
    "print(sc.betti_number(0), sc.betti_number(1), sc.betti_number(2), sc.betti_number(3))"
   ],
   "metadata": {
    "collapsed": false
   }
  },
  {
   "cell_type": "markdown",
   "source": [
    "### Ejemplo 4\n",
    "1-esqueleto anterior"
   ],
   "metadata": {
    "collapsed": false
   }
  },
  {
   "cell_type": "code",
   "execution_count": 74,
   "outputs": [
    {
     "name": "stdout",
     "output_type": "stream",
     "text": [
      "1 5\n"
     ]
    }
   ],
   "source": [
    "sc = SimplicialComplex([(0, 1), (1, 2, 3, 4), (4, 5), (5, 6), (4, 6), (6, 7, 8), (8, 9)])\n",
    "sc = SimplicialComplex(list(sc.n_faces(1)))\n",
    "print(sc.betti_number(0), sc.betti_number(1))"
   ],
   "metadata": {
    "collapsed": false
   }
  },
  {
   "cell_type": "markdown",
   "source": [
    "### Ejemplo 5"
   ],
   "metadata": {
    "collapsed": false
   }
  },
  {
   "cell_type": "code",
   "execution_count": 75,
   "outputs": [
    {
     "name": "stdout",
     "output_type": "stream",
     "text": [
      "1 0 0\n"
     ]
    }
   ],
   "source": [
    "sc=SimplicialComplex([(0,1,2),(2,3),(3,4)])\n",
    "print (sc.betti_number(0) ,sc.betti_number(1),sc.betti_number(2))"
   ],
   "metadata": {
    "collapsed": false
   }
  },
  {
   "cell_type": "markdown",
   "source": [
    "### Ejemplo 6\n",
    "Anillo cerrado"
   ],
   "metadata": {
    "collapsed": false
   }
  },
  {
   "cell_type": "code",
   "execution_count": 76,
   "outputs": [
    {
     "name": "stdout",
     "output_type": "stream",
     "text": [
      "1 1 0\n"
     ]
    }
   ],
   "source": [
    "sc= anillo\n",
    "print (sc.betti_number(0) ,sc.betti_number(1),sc.betti_number(2))"
   ],
   "metadata": {
    "collapsed": false
   }
  },
  {
   "cell_type": "markdown",
   "source": [
    "### Ejemplo 7\n",
    "1-esqueleto anillo cerrado"
   ],
   "metadata": {
    "collapsed": false
   }
  },
  {
   "cell_type": "code",
   "execution_count": 77,
   "outputs": [
    {
     "name": "stdout",
     "output_type": "stream",
     "text": [
      "1 7\n"
     ]
    }
   ],
   "source": [
    "sc=SimplicialComplex([(1,2,4),(1,3,6), (1,4,6),(2,3,5),(2,4,5), (3,5,6)])\n",
    "sc1=SimplicialComplex(list(sc.n_faces(1)))\n",
    "print (sc1.betti_number(0),sc1.betti_number(1))"
   ],
   "metadata": {
    "collapsed": false
   }
  },
  {
   "cell_type": "markdown",
   "source": [
    "### Ejemplo 8\n",
    "Toro"
   ],
   "metadata": {
    "collapsed": false
   }
  },
  {
   "cell_type": "code",
   "execution_count": 78,
   "outputs": [
    {
     "name": "stdout",
     "output_type": "stream",
     "text": [
      "1 2 1\n"
     ]
    }
   ],
   "source": [
    "sc= toro\n",
    "print (sc.betti_number (0) ,sc.betti_number(1),sc.betti_number(2))"
   ],
   "metadata": {
    "collapsed": false
   }
  },
  {
   "cell_type": "markdown",
   "source": [
    "### Ejemplo 8\n",
    "1-esqueleto del toro"
   ],
   "metadata": {
    "collapsed": false
   }
  },
  {
   "cell_type": "code",
   "execution_count": 79,
   "outputs": [
    {
     "name": "stdout",
     "output_type": "stream",
     "text": [
      "1 19\n"
     ]
    }
   ],
   "source": [
    "sc= toro\n",
    "sc1 = SimplicialComplex(list(sc.n_faces(1)))\n",
    "print(sc1.betti_number(0), sc1.betti_number(1))"
   ],
   "metadata": {
    "collapsed": false
   }
  },
  {
   "cell_type": "markdown",
   "source": [
    "### Ejemplo 9\n",
    "Plano proyectivo"
   ],
   "metadata": {
    "collapsed": false
   }
  },
  {
   "cell_type": "code",
   "execution_count": 80,
   "outputs": [
    {
     "name": "stdout",
     "output_type": "stream",
     "text": [
      "1 1 1\n"
     ]
    }
   ],
   "source": [
    "sc= plano_proyectivo\n",
    "print (sc.betti_number (0) ,sc.betti_number(1),sc.betti_number(2))"
   ],
   "metadata": {
    "collapsed": false
   }
  },
  {
   "cell_type": "markdown",
   "source": [
    "### Ejemplo 10"
   ],
   "metadata": {
    "collapsed": false
   }
  },
  {
   "cell_type": "code",
   "execution_count": 81,
   "outputs": [
    {
     "name": "stdout",
     "output_type": "stream",
     "text": [
      "4 1 0 0\n"
     ]
    }
   ],
   "source": [
    "sc=SimplicialComplex([(0,), (1,), (2,3), (4,5), (5,6), (4,6), (6,7,8,9)])\n",
    "print (sc.betti_number (0) ,sc.betti_number(1),sc.betti_number (2) ,sc.betti_number(3))"
   ],
   "metadata": {
    "collapsed": false
   }
  },
  {
   "cell_type": "markdown",
   "source": [
    "### Ejemplo 11\n",
    "AlphaComplejo 1"
   ],
   "metadata": {
    "collapsed": false
   }
  },
  {
   "cell_type": "code",
   "execution_count": 82,
   "outputs": [
    {
     "name": "stdout",
     "output_type": "stream",
     "text": [
      "1 0 0\n",
      "[1, 0]\n"
     ]
    }
   ],
   "source": [
    "points = json.load(open(CLOUD_PATH))['alpha1']\n",
    "sc = AlphaComplex(points)\n",
    "print (sc.betti_number (0) ,sc.betti_number(1),sc.betti_number (2))\n",
    "print(sc.algoritmo_incremental())"
   ],
   "metadata": {
    "collapsed": false
   }
  },
  {
   "cell_type": "markdown",
   "source": [
    "### Ejemplo 12\n",
    "AlphaComplejo 2"
   ],
   "metadata": {
    "collapsed": false
   }
  },
  {
   "cell_type": "code",
   "execution_count": 83,
   "outputs": [
    {
     "name": "stdout",
     "output_type": "stream",
     "text": [
      "1 0 0\n",
      "[1, 0]\n"
     ]
    }
   ],
   "source": [
    "points = points = json.load(open(CLOUD_PATH))['alpha2']\n",
    "sc = AlphaComplex(points)\n",
    "print (sc.betti_number (0) ,sc.betti_number(1),sc.betti_number (2))\n",
    "print(sc.algoritmo_incremental())"
   ],
   "metadata": {
    "collapsed": false
   }
  },
  {
   "cell_type": "markdown",
   "source": [
    "### Ejemplo 13\n",
    "AlphaComplejo 3"
   ],
   "metadata": {
    "collapsed": false
   }
  },
  {
   "cell_type": "code",
   "execution_count": 84,
   "outputs": [
    {
     "name": "stdout",
     "output_type": "stream",
     "text": [
      "1 0 0\n",
      "[1, 0]\n"
     ]
    }
   ],
   "source": [
    "points = json.load(open(CLOUD_PATH))['alpha3']\n",
    "\n",
    "sc = AlphaComplex(points)\n",
    "print (sc.betti_number (0) ,sc.betti_number(1),sc.betti_number (2))\n",
    "print(sc.algoritmo_incremental())"
   ],
   "metadata": {
    "collapsed": false
   }
  }
 ],
 "metadata": {
  "kernelspec": {
   "display_name": "Python 3",
   "language": "python",
   "name": "python3"
  },
  "language_info": {
   "codemirror_mode": {
    "name": "ipython",
    "version": 2
   },
   "file_extension": ".py",
   "mimetype": "text/x-python",
   "name": "python",
   "nbconvert_exporter": "python",
   "pygments_lexer": "ipython2",
   "version": "2.7.6"
  }
 },
 "nbformat": 4,
 "nbformat_minor": 0
}
