{
 "cells": [
  {
   "cell_type": "markdown",
   "source": [
    "# Ejemplos Simplicial Complex"
   ],
   "metadata": {
    "collapsed": false
   }
  },
  {
   "cell_type": "code",
   "execution_count": 14,
   "metadata": {
    "collapsed": true
   },
   "outputs": [
    {
     "name": "stdout",
     "output_type": "stream",
     "text": [
      "The autoreload extension is already loaded. To reload it, use:\n",
      "  %reload_ext autoreload\n"
     ]
    }
   ],
   "source": [
    "%load_ext autoreload\n",
    "%autoreload 2\n",
    "\n",
    "from SimplicialComplex import SimplicialComplex"
   ]
  },
  {
   "cell_type": "markdown",
   "source": [
    "### Ejemplo 1"
   ],
   "metadata": {
    "collapsed": false
   }
  },
  {
   "cell_type": "code",
   "execution_count": 15,
   "outputs": [
    {
     "name": "stdout",
     "output_type": "stream",
     "text": [
      "Representacion del complejo simplicial: \n",
      "[(), (0,), (0, 1), (0, 1, 2), (0, 1, 2, 3), (0, 1, 3), (0, 2), (0, 2, 3), (0, 3), (1,), (1, 2), (1, 2, 3), (1, 3), (2,), (2, 3), (3,)]\n",
      "Dimension\n",
      "3\n",
      "N_faces(0)\n",
      "[(0,), (1,), (2,), (3,)]\n",
      "N_faces(1)\n",
      "[(0, 1), (0, 2), (0, 3), (1, 2), (1, 3), (2, 3)]\n",
      "N_faces(2)\n",
      "[(0, 1, 2), (0, 1, 3), (0, 2, 3), (1, 2, 3)]\n",
      "N_faces(3)\n",
      "[(0, 1, 2, 3)]\n",
      "Star(0,1)\n",
      "[(0, 1), (0, 1, 2), (0, 1, 2, 3), (0, 1, 3)]\n",
      "ClosedStar(0,1)\n",
      "[(), (0,), (0, 1), (0, 1, 2), (0, 1, 2, 3), (0, 1, 3), (0, 2), (0, 2, 3), (0, 3), (1,), (1, 2), (1, 2, 3), (1, 3), (2,), (2, 3), (3,)]\n",
      "Link(0,1)\n",
      "[(), (2,), (2, 3), (3,)]\n",
      "Skeleton(2)\n",
      "[(), (0,), (0, 1), (0, 1, 2), (0, 1, 3), (0, 2), (0, 2, 3), (0, 3), (1,), (1, 2), (1, 2, 3), (1, 3), (2,), (2, 3), (3,)]\n",
      "Euler Caracateristic sc\n",
      "1\n"
     ]
    }
   ],
   "source": [
    "complejo = SimplicialComplex({(0, 1, 2, 3)})\n",
    "\n",
    "print(\"Representacion del complejo simplicial: \")\n",
    "print(complejo.face_set())\n",
    "print(\"Dimension\")\n",
    "print(complejo.dimension())\n",
    "print(\"N_faces(0)\")\n",
    "print(complejo.n_faces(0))\n",
    "print(\"N_faces(1)\")\n",
    "print(complejo.n_faces(1))\n",
    "print(\"N_faces(2)\")\n",
    "print(complejo.n_faces(2))\n",
    "print(\"N_faces(3)\")\n",
    "print(complejo.n_faces(3))\n",
    "print(\"Star(0,1)\")\n",
    "print(complejo.star((0, 1)))\n",
    "print(\"ClosedStar(0,1)\")\n",
    "print(complejo.closedStar((0, 1)))\n",
    "print(\"Link(0,1)\")\n",
    "print(complejo.link((0, 1)))\n",
    "print(\"Skeleton(2)\")\n",
    "print(complejo.skeleton(2))\n",
    "print(\"Euler Caracateristic sc\")\n",
    "print(complejo.euler_characteristic())"
   ],
   "metadata": {
    "collapsed": false
   }
  },
  {
   "cell_type": "markdown",
   "source": [
    "### Ejemplo2"
   ],
   "metadata": {
    "collapsed": false
   }
  },
  {
   "cell_type": "code",
   "execution_count": 16,
   "outputs": [
    {
     "name": "stdout",
     "output_type": "stream",
     "text": [
      "FaceSet sc1\n",
      "[(), (0,), (0, 1), (0, 1, 2), (0, 1, 3), (0, 2), (0, 2, 3), (0, 3), (1,), (1, 2), (1, 2, 3), (1, 3), (2,), (2, 3), (3,)]\n",
      "Dimension sc1\n",
      "2\n",
      "Star sc1 (0,)\n",
      "[(0,), (0, 1), (0, 1, 2), (0, 1, 3), (0, 2), (0, 2, 3), (0, 3)]\n",
      "Link sc1 (0,)\n",
      "[(), (1,), (1, 2), (1, 3), (2,), (2, 3), (3,)]\n",
      "Euler Caracateristic sc\n",
      "2\n"
     ]
    }
   ],
   "source": [
    "sc1 = SimplicialComplex(complejo.skeleton(2))\n",
    "\n",
    "print(\"FaceSet sc1\")\n",
    "print(sc1.face_set())\n",
    "print(\"Dimension sc1\")\n",
    "print(sc1.dimension())\n",
    "print(\"Star sc1 (0,)\")\n",
    "print(sc1.star((0,)))\n",
    "print(\"Link sc1 (0,)\")\n",
    "print(sc1.link((0,)))\n",
    "print(\"Euler Caracateristic sc\")\n",
    "print(sc1.euler_characteristic())"
   ],
   "metadata": {
    "collapsed": false
   }
  },
  {
   "cell_type": "markdown",
   "source": [
    "### Ejemplo 3"
   ],
   "metadata": {
    "collapsed": false
   }
  },
  {
   "cell_type": "code",
   "execution_count": 17,
   "outputs": [
    {
     "name": "stdout",
     "output_type": "stream",
     "text": [
      "FaceSet sc\n",
      "[(), (0,), (0, 1), (1,), (1, 2), (1, 2, 3), (1, 2, 3, 4), (1, 2, 4), (1, 3), (1, 3, 4), (1, 4), (2,), (2, 3), (2, 3, 4), (2, 4), (3,), (3, 4), (4,), (4, 5), (4, 6), (5,), (5, 6), (6,), (6, 7), (6, 7, 8), (6, 8), (7,), (7, 8), (8,), (8, 9), (9,)]\n",
      "Dimension sc\n",
      "3\n",
      "Skeleton(1) sc\n",
      "[(), (0,), (0, 1), (1,), (1, 2), (1, 3), (1, 4), (2,), (2, 3), (2, 4), (3,), (3, 4), (4,), (4, 5), (4, 6), (5,), (5, 6), (6,), (6, 7), (6, 8), (7,), (7, 8), (8,), (8, 9), (9,)]\n",
      "Star sc (4,)\n",
      "[(1, 2, 3, 4), (1, 2, 4), (1, 3, 4), (1, 4), (2, 3, 4), (2, 4), (3, 4), (4,), (4, 5), (4, 6)]\n",
      "Link sc (4,)\n",
      "[(), (1,), (1, 2), (1, 2, 3), (1, 3), (2,), (2, 3), (3,), (5,), (6,)]\n",
      "Euler Caracateristic sc\n",
      "0\n"
     ]
    }
   ],
   "source": [
    "\n",
    "sc = SimplicialComplex({(0, 1), (1, 2, 3, 4), (4, 5), (5, 6), (4, 6), (6, 7, 8), (8, 9)})\n",
    "\n",
    "print(\"FaceSet sc\")\n",
    "print(sc.face_set())\n",
    "print(\"Dimension sc\")\n",
    "print(sc.dimension())\n",
    "print(\"Skeleton(1) sc\")\n",
    "print(sc.skeleton(1))\n",
    "print(\"Star sc (4,)\")\n",
    "print(sc.star((4,)))\n",
    "print(\"Link sc (4,)\")\n",
    "print(sc.link((4,)))\n",
    "print(\"Euler Caracateristic sc\")\n",
    "print(sc.euler_characteristic())\n"
   ],
   "metadata": {
    "collapsed": false
   }
  },
  {
   "cell_type": "markdown",
   "source": [
    "### Ejemplo 4"
   ],
   "metadata": {
    "collapsed": false
   }
  },
  {
   "cell_type": "code",
   "execution_count": 18,
   "outputs": [
    {
     "name": "stdout",
     "output_type": "stream",
     "text": [
      "FaceSet sc\n",
      "[(), (0,), (0, 1), (1,), (1, 2), (1, 3), (1, 4), (2,), (2, 3), (2, 4), (3,), (3, 4), (4,), (4, 5), (4, 6), (5,), (5, 6), (6,), (6, 7), (6, 8), (7,), (7, 8), (8,), (8, 9), (9,)]\n",
      "Euler Characteristic sc\n",
      "-4\n"
     ]
    }
   ],
   "source": [
    "sc = SimplicialComplex(sc.skeleton(1))\n",
    "\n",
    "print(\"FaceSet sc\")\n",
    "print(sc.face_set())\n",
    "print(\"Euler Characteristic sc\")\n",
    "print(sc.euler_characteristic())"
   ],
   "metadata": {
    "collapsed": false
   }
  },
  {
   "cell_type": "markdown",
   "source": [
    "### Ejemplo 5"
   ],
   "metadata": {
    "collapsed": false
   }
  },
  {
   "cell_type": "code",
   "execution_count": 19,
   "outputs": [
    {
     "name": "stdout",
     "output_type": "stream",
     "text": [
      "FaceSet sc\n",
      "[(), (0,), (0, 1), (0, 1, 2), (0, 2), (1,), (1, 2), (2,), (2, 3), (3,), (3, 4), (4,)]\n",
      "Dimension sc\n",
      "2\n",
      "Skeleton(1) sc\n",
      "[(), (0,), (0, 1), (0, 2), (1,), (1, 2), (2,), (2, 3), (3,), (3, 4), (4,)]\n",
      "Star((2,)) sc\n",
      "[(0, 1, 2), (0, 2), (1, 2), (2,), (2, 3)]\n",
      "Link((2,)) sc\n",
      "[(), (0,), (0, 1), (1,), (3,)]\n"
     ]
    }
   ],
   "source": [
    "sc = SimplicialComplex({(0, 1, 2), (2, 3), (3, 4)})\n",
    "\n",
    "print(\"FaceSet sc\")\n",
    "print(sc.face_set())\n",
    "print(\"Dimension sc\")\n",
    "print(sc.dimension())\n",
    "print(\"Skeleton(1) sc\")\n",
    "print(sc.skeleton(1))\n",
    "print(\"Star((2,)) sc\")\n",
    "print(sc.star((2,)))\n",
    "print(\"Link((2,)) sc\")\n",
    "print(sc.link((2,)))"
   ],
   "metadata": {
    "collapsed": false
   }
  },
  {
   "cell_type": "markdown",
   "source": [
    "### Ejemplo 6"
   ],
   "metadata": {
    "collapsed": false
   }
  },
  {
   "cell_type": "code",
   "execution_count": 20,
   "outputs": [
    {
     "name": "stdout",
     "output_type": "stream",
     "text": [
      "FaceSet sc\n",
      "[(), (1,), (1, 2), (1, 2, 4), (1, 3), (1, 3, 6), (1, 4), (1, 4, 6), (1, 6), (2,), (2, 3), (2, 3, 5), (2, 4), (2, 4, 5), (2, 5), (3,), (3, 5), (3, 5, 6), (3, 6), (4,), (4, 5), (4, 6), (5,), (5, 6), (6,)]\n",
      "Dimension sc\n",
      "2\n",
      "Skeleton(1) sc\n",
      "[(), (1,), (1, 2), (1, 3), (1, 4), (1, 6), (2,), (2, 3), (2, 4), (2, 5), (3,), (3, 5), (3, 6), (4,), (4, 5), (4, 6), (5,), (5, 6), (6,)]\n",
      "Star((1,4)) sc\n",
      "[(1, 2, 4), (1, 4), (1, 4, 6)]\n",
      "Link((1,4)) sc\n",
      "[(), (2,), (6,)]\n",
      "Euler Caracateristic sc\n",
      "0\n",
      "Connected components sc\n",
      "1\n"
     ]
    }
   ],
   "source": [
    "sc = SimplicialComplex({(1, 2, 4), (1, 3, 6), (1, 4, 6), (2, 3, 5), (2, 4, 5), (3, 5, 6)})\n",
    "\n",
    "print(\"FaceSet sc\")\n",
    "print(sc.face_set())\n",
    "print(\"Dimension sc\")\n",
    "print(sc.dimension())\n",
    "print(\"Skeleton(1) sc\")\n",
    "print(sc.skeleton(1))\n",
    "print(\"Star((1,4)) sc\")\n",
    "print(sc.star((1, 4)))\n",
    "print(\"Link((1,4)) sc\")\n",
    "print(sc.link((1, 4)))\n",
    "print(\"Euler Caracateristic sc\")\n",
    "print(sc.euler_characteristic())\n",
    "print(\"Connected components sc\")\n",
    "print(sc.connected_components())"
   ],
   "metadata": {
    "collapsed": false
   }
  },
  {
   "cell_type": "markdown",
   "source": [
    "### Ejemplo 7"
   ],
   "metadata": {
    "collapsed": false
   }
  },
  {
   "cell_type": "code",
   "execution_count": 21,
   "outputs": [
    {
     "name": "stdout",
     "output_type": "stream",
     "text": [
      "Euler Caracateristic sc\n",
      "-6\n"
     ]
    }
   ],
   "source": [
    "sc = SimplicialComplex(sc.skeleton(1))\n",
    "\n",
    "print(\"Euler Caracateristic sc\")\n",
    "print(sc.euler_characteristic())"
   ],
   "metadata": {
    "collapsed": false
   }
  },
  {
   "cell_type": "markdown",
   "source": [
    "### Ejemplo 8\n",
    "Toro"
   ],
   "metadata": {
    "collapsed": false
   }
  },
  {
   "cell_type": "code",
   "execution_count": 22,
   "outputs": [
    {
     "name": "stdout",
     "output_type": "stream",
     "text": [
      "Dimension sc\n",
      "2\n",
      "N_faces(1)\n",
      "[(1, 2), (1, 3), (1, 4), (1, 6), (1, 7), (1, 8), (2, 3), (2, 4), (2, 5), (2, 8), (2, 9), (3, 5), (3, 6), (3, 7), (3, 9), (4, 5), (4, 6), (4, 7), (4, 9), (5, 6), (5, 7), (5, 8), (6, 8), (6, 9), (7, 8), (7, 9), (8, 9)]\n",
      "Star((1,)) sc\n",
      "[(1,), (1, 2), (1, 2, 4), (1, 2, 8), (1, 3), (1, 3, 6), (1, 3, 7), (1, 4), (1, 4, 6), (1, 6), (1, 7), (1, 7, 8), (1, 8)]\n",
      "Link((1,)) sc\n",
      "[(), (2,), (2, 4), (2, 8), (3,), (3, 6), (3, 7), (4,), (4, 6), (6,), (7,), (7, 8), (8,)]\n",
      "Euler Caracateristic sc\n",
      "0\n",
      "Connected components\n",
      "1\n"
     ]
    }
   ],
   "source": [
    "sc = SimplicialComplex({(1, 2, 4), (2, 4, 5), (2, 3, 5), (3, 5, 6), (1, 3, 6), (1, 4, 6), (4, 5, 7),(5, 7, 8), (5, 6, 8), (6, 8, 9), (4, 6, 9), (4, 7, 9), (1, 7, 8), (1, 2, 8), (2, 8, 9),(2, 3, 9), (3, 7, 9),(1, 3, 7)})\n",
    "\n",
    "print(\"Dimension sc\")\n",
    "print(sc.dimension())\n",
    "print(\"N_faces(1)\")\n",
    "print(sc.n_faces(1))\n",
    "print(\"Star((1,)) sc\")\n",
    "print(sc.star((1,)))\n",
    "print(\"Link((1,)) sc\")\n",
    "print(sc.link((1,)))\n",
    "print(\"Euler Caracateristic sc\")\n",
    "print(sc.euler_characteristic())\n",
    "print(\"Connected components\")\n",
    "print(sc.connected_components())"
   ],
   "metadata": {
    "collapsed": false
   }
  },
  {
   "cell_type": "markdown",
   "source": [
    "### Ejemplo 8.1\n",
    "Skeleton 1 Toro"
   ],
   "metadata": {
    "collapsed": false
   }
  },
  {
   "cell_type": "code",
   "execution_count": 23,
   "outputs": [
    {
     "name": "stdout",
     "output_type": "stream",
     "text": [
      "Euler Caracateristic sc\n",
      "-18\n"
     ]
    }
   ],
   "source": [
    "sc = SimplicialComplex(sc.skeleton(1))\n",
    "\n",
    "print(\"Euler Caracateristic sc\")\n",
    "print(sc.euler_characteristic())"
   ],
   "metadata": {
    "collapsed": false
   }
  },
  {
   "cell_type": "markdown",
   "source": [
    "### Ejemplo 9\n",
    "Plano proyectivo"
   ],
   "metadata": {
    "collapsed": false
   }
  },
  {
   "cell_type": "code",
   "execution_count": 24,
   "outputs": [
    {
     "name": "stdout",
     "output_type": "stream",
     "text": [
      "Dimension sc\n",
      "2\n",
      "N_faces(1)\n",
      "[(1, 2), (1, 3), (1, 4), (1, 5), (1, 6), (2, 3), (2, 4), (2, 5), (2, 6), (3, 4), (3, 5), (3, 6), (4, 5), (4, 6), (5, 6)]\n",
      "Star((1,)) sc\n",
      "[(1,), (1, 2), (1, 2, 5), (1, 2, 6), (1, 3), (1, 3, 4), (1, 3, 6), (1, 4), (1, 4, 5), (1, 5), (1, 6)]\n",
      "Link((1,)) sc\n",
      "[(), (2,), (2, 5), (2, 6), (3,), (3, 4), (3, 6), (4,), (4, 5), (5,), (6,)]\n",
      "Euler Caracateristic sc\n",
      "0\n",
      "Connected components sc\n",
      "1\n"
     ]
    }
   ],
   "source": [
    "sc = SimplicialComplex({(1, 2, 6), (2, 3, 4), (1, 3, 4), (1, 2, 5), (2, 3, 5), (1, 3, 6),\n",
    "                        (2, 4, 6), (1, 4, 5), (2, 3, 5), (4, 5, 6)})\n",
    "\n",
    "print(\"Dimension sc\")\n",
    "print(sc.dimension())\n",
    "print(\"N_faces(1)\")\n",
    "print(sc.n_faces(1))\n",
    "print(\"Star((1,)) sc\")\n",
    "print(sc.star((1,)))\n",
    "print(\"Link((1,)) sc\")\n",
    "print(sc.link((1,)))\n",
    "print(\"Euler Caracateristic sc\")\n",
    "print(sc.euler_characteristic())\n",
    "print(\"Connected components sc\")\n",
    "print(sc.connected_components())"
   ],
   "metadata": {
    "collapsed": false
   }
  },
  {
   "cell_type": "markdown",
   "source": [
    "### Ejemplo 10\n",
    "Skeleton 1 Plano proyectivo"
   ],
   "metadata": {
    "collapsed": false
   }
  },
  {
   "cell_type": "code",
   "execution_count": 25,
   "outputs": [
    {
     "name": "stdout",
     "output_type": "stream",
     "text": [
      "Euler Caracateristic sc\n",
      "-9\n"
     ]
    }
   ],
   "source": [
    "sc = SimplicialComplex(sc.skeleton(1))\n",
    "\n",
    "print(\"Euler Caracateristic sc\")\n",
    "print(sc.euler_characteristic())"
   ],
   "metadata": {
    "collapsed": false
   }
  },
  {
   "cell_type": "markdown",
   "source": [
    "### Ejemplo 11"
   ],
   "metadata": {
    "collapsed": false
   }
  },
  {
   "cell_type": "code",
   "execution_count": 26,
   "outputs": [
    {
     "name": "stdout",
     "output_type": "stream",
     "text": [
      "FaceSet sc\n",
      "[(), (0,), (1,), (2,), (2, 3), (3,), (4,), (4, 5), (4, 6), (5,), (5, 6), (6,), (6, 7), (6, 7, 8), (6, 7, 8, 9), (6, 7, 9), (6, 8), (6, 8, 9), (6, 9), (7,), (7, 8), (7, 8, 9), (7, 9), (8,), (8, 9), (9,)]\n",
      "Dimension sc\n",
      "3\n",
      "Skeleton(1) sc\n",
      "[(), (0,), (1,), (2,), (2, 3), (3,), (4,), (4, 5), (4, 6), (5,), (5, 6), (6,), (6, 7), (6, 8), (6, 9), (7,), (7, 8), (7, 9), (8,), (8, 9), (9,)]\n",
      "Star((6,)) sc\n",
      "[(4, 6), (5, 6), (6,), (6, 7), (6, 7, 8), (6, 7, 8, 9), (6, 7, 9), (6, 8), (6, 8, 9), (6, 9)]\n",
      "Link((6,)) sc\n",
      "[(), (4,), (5,), (7,), (7, 8), (7, 8, 9), (7, 9), (8,), (8, 9), (9,)]\n",
      "Euler Caracateristic sc\n",
      "3\n",
      "Connected components sc\n",
      "4\n"
     ]
    }
   ],
   "source": [
    "sc = SimplicialComplex({(0,), (1,), (2, 3), (4, 5), (5, 6), (4, 6), (6, 7, 8, 9)})\n",
    "\n",
    "print(\"FaceSet sc\")\n",
    "print(sc.face_set())\n",
    "print(\"Dimension sc\")\n",
    "print(sc.dimension())\n",
    "print(\"Skeleton(1) sc\")\n",
    "print(sc.skeleton(1))\n",
    "print(\"Star((6,)) sc\")\n",
    "print(sc.star((6,)))\n",
    "print(\"Link((6,)) sc\")\n",
    "print(sc.link((6,)))\n",
    "print(\"Euler Caracateristic sc\")\n",
    "print(sc.euler_characteristic())\n",
    "print(\"Connected components sc\")\n",
    "print(sc.connected_components())"
   ],
   "metadata": {
    "collapsed": false
   }
  }
 ],
 "metadata": {
  "kernelspec": {
   "display_name": "Python 3",
   "language": "python",
   "name": "python3"
  },
  "language_info": {
   "codemirror_mode": {
    "name": "ipython",
    "version": 2
   },
   "file_extension": ".py",
   "mimetype": "text/x-python",
   "name": "python",
   "nbconvert_exporter": "python",
   "pygments_lexer": "ipython2",
   "version": "2.7.6"
  }
 },
 "nbformat": 4,
 "nbformat_minor": 0
}
